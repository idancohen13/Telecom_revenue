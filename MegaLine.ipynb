{
 "cells": [
  {
   "cell_type": "markdown",
   "metadata": {},
   "source": [
    "# Megaline project"
   ]
  },
  {
   "cell_type": "markdown",
   "metadata": {},
   "source": [
    "## description\n",
    "\n",
    "The telecom operator Megaline offers its clients two prepaid plans, Surf and Ultimate. The commercial department wants to know which of the plans brings in more revenue in order to adjust the advertising budget.\n",
    "We are going to carry out a preliminary analysis of the plans based on a relatively small client selection. We'll have the data on 500 Megaline clients: who the clients are, where they're from, which plan they use, and the number of calls they made and text messages they sent in 2018. Our job is to analyze clients' behavior and determine which prepaid plan brings in more revenue.\n",
    "Description of the plans\n",
    "Note: Megaline rounds seconds up to minutes, and megabytes to gigabytes. For calls, each individual call is rounded up: even if the call lasted just one second, it will be counted as one minute. For web traffic, individual web sessions are not rounded up. Instead, the total for the month is rounded up. If someone uses 1025 megabytes this month, they will be charged for 2 gigabytes.\n",
    "\n",
    "Surf\n",
    "- Monthly charge: 20 dollars\n",
    "- 500 monthly minutes, 50 texts, and 15 GB of data\n",
    "- After exceeding the package limits:\n",
    "- 1 minute: 3 cents\n",
    "- 1 text message: 3 cents\n",
    "- 1 GB of data: 10 dollars\n",
    "\n",
    "Ultimate\n",
    "- Monthly charge: 70 dollars\n",
    "- 3000 monthly minutes, 1000 text messages, and 30 GB of data\n",
    "- After exceeding the package limits:\n",
    "- 1 minute: 1 cent\n",
    "- 1 text message: 1 cent\n",
    "- 1 GB of data: 7 dollars"
   ]
  },
  {
   "cell_type": "markdown",
   "metadata": {},
   "source": [
    "[Step 1:Open the data file and Explore initial data](#Open-the-data-files)\n",
    "\n",
    "[Step 2:Data preprocessing](#Step-2.-Prepare-the-data)\n",
    "\n",
    "- [Data mergeing](#Data-mergeing)\n",
    "\n",
    "- [Enrich data](#Adding-monthly-revenue)\n",
    "\n",
    "[Step 3:Study core parameters](#Step-3.-Analyze-the-data)\n",
    "\n",
    "- [Call minutes](#Call-minutes)\n",
    "\n",
    "- [Internet data](#Internet-data)\n",
    "\n",
    "- [Messages](#Messages)\n",
    "\n",
    "- [Monthly revenue](#Monthly-revenue)\n",
    "\n",
    "\n",
    "[Step 4: Hypotheses testing](#Step-4:-Test-the-hypotheses)\n",
    "\n",
    "- [Hypotheses 1](#First-hypotheses)\n",
    "\n",
    "- [Hypotheses 2](#Second-hypotheses)\n",
    "\n",
    "[Final Conclussions](#Conclusions)"
   ]
  },
  {
   "cell_type": "code",
   "execution_count": 1,
   "metadata": {},
   "outputs": [
    {
     "name": "stdout",
     "output_type": "stream",
     "text": [
      "Defaulting to user installation because normal site-packages is not writeable\n",
      "Requirement already up-to-date: seaborn in /home/jovyan/.local/lib/python3.7/site-packages (0.11.2)\n",
      "Requirement already satisfied, skipping upgrade: pandas>=0.23 in /opt/conda/lib/python3.7/site-packages (from seaborn) (0.25.1)\n",
      "Requirement already satisfied, skipping upgrade: scipy>=1.0 in /opt/conda/lib/python3.7/site-packages (from seaborn) (1.4.1)\n",
      "Requirement already satisfied, skipping upgrade: matplotlib>=2.2 in /opt/conda/lib/python3.7/site-packages (from seaborn) (3.1.0)\n",
      "Requirement already satisfied, skipping upgrade: numpy>=1.15 in /opt/conda/lib/python3.7/site-packages (from seaborn) (1.19.5)\n",
      "Requirement already satisfied, skipping upgrade: pytz>=2017.2 in /opt/conda/lib/python3.7/site-packages (from pandas>=0.23->seaborn) (2021.1)\n",
      "Requirement already satisfied, skipping upgrade: python-dateutil>=2.6.1 in /opt/conda/lib/python3.7/site-packages (from pandas>=0.23->seaborn) (2.8.1)\n",
      "Requirement already satisfied, skipping upgrade: kiwisolver>=1.0.1 in /opt/conda/lib/python3.7/site-packages (from matplotlib>=2.2->seaborn) (1.3.1)\n",
      "Requirement already satisfied, skipping upgrade: cycler>=0.10 in /opt/conda/lib/python3.7/site-packages (from matplotlib>=2.2->seaborn) (0.10.0)\n",
      "Requirement already satisfied, skipping upgrade: pyparsing!=2.0.4,!=2.1.2,!=2.1.6,>=2.0.1 in /opt/conda/lib/python3.7/site-packages (from matplotlib>=2.2->seaborn) (2.4.7)\n",
      "Requirement already satisfied, skipping upgrade: six>=1.5 in /opt/conda/lib/python3.7/site-packages (from python-dateutil>=2.6.1->pandas>=0.23->seaborn) (1.15.0)\n",
      "Note: you may need to restart the kernel to use updated packages.\n"
     ]
    }
   ],
   "source": [
    "pip install seaborn --upgrade"
   ]
  },
  {
   "cell_type": "code",
   "execution_count": 3,
   "metadata": {},
   "outputs": [],
   "source": [
    "import pandas as pd\n",
    "import numpy as np\n",
    "import matplotlib.pyplot as plt\n",
    "import seaborn as sns\n",
    "from scipy import stats as st\n",
    "import warnings\n",
    "\n",
    "warnings.filterwarnings(\"ignore\")"
   ]
  },
  {
   "cell_type": "markdown",
   "metadata": {},
   "source": [
    "## Open the data files"
   ]
  },
  {
   "cell_type": "code",
   "execution_count": 4,
   "metadata": {},
   "outputs": [],
   "source": [
    "try:\n",
    "    \n",
    "    call_data = pd.read_csv('D:\\Tammy\\Downloads\\SDA data/megaline_calls.csv') \n",
    "\n",
    "    web_data = pd.read_csv('D:\\Tammy\\Downloads\\SDA data/megaline_internet.csv')\n",
    "\n",
    "    sms_data = pd.read_csv('D:\\Tammy\\Downloads\\SDA data/megaline_messages.csv')\n",
    "\n",
    "    plan_data = pd.read_csv('D:\\Tammy\\Downloads\\SDA data/megaline_plans.csv')\n",
    "\n",
    "    user_data = pd.read_csv('D:\\Tammy\\Downloads\\SDA data/megaline_users.csv') \n",
    "    \n",
    "except:\n",
    "    \n",
    "    call_data = pd.read_csv('/datasets/megaline_calls.csv') \n",
    "\n",
    "    web_data = pd.read_csv('/datasets/megaline_internet.csv')\n",
    "\n",
    "    sms_data = pd.read_csv('/datasets/megaline_messages.csv')\n",
    "\n",
    "    plan_data = pd.read_csv('/datasets/megaline_plans.csv')\n",
    "\n",
    "    user_data = pd.read_csv('/datasets/megaline_users.csv') \n",
    "\n",
    "    "
   ]
  },
  {
   "cell_type": "code",
   "execution_count": 7,
   "metadata": {},
   "outputs": [],
   "source": [
    "def first_look(parameter):\n",
    "    print('The info of')\n",
    "    (parameter).info()\n",
    "    print('No. of duplicates {}'.format((parameter).duplicated().sum()))\n",
    "    print('No. of missing values {}'.format((parameter).isnull().sum()))\n",
    "    print('---------------------------------------')\n",
    "    print('The description')\n",
    "    print((parameter).describe())\n",
    "    print('---------------------------------------')\n",
    "    print('A sample')\n",
    "    print((parameter).sample(2))\n",
    "    print('---------------------------------------')\n",
    "    print('')"
   ]
  },
  {
   "cell_type": "code",
   "execution_count": 8,
   "metadata": {},
   "outputs": [
    {
     "name": "stdout",
     "output_type": "stream",
     "text": [
      "The info of\n",
      "<class 'pandas.core.frame.DataFrame'>\n",
      "RangeIndex: 137735 entries, 0 to 137734\n",
      "Data columns (total 4 columns):\n",
      "id           137735 non-null object\n",
      "user_id      137735 non-null int64\n",
      "call_date    137735 non-null object\n",
      "duration     137735 non-null float64\n",
      "dtypes: float64(1), int64(1), object(2)\n",
      "memory usage: 4.2+ MB\n",
      "No. of duplicates 0\n",
      "No. of missing values id           0\n",
      "user_id      0\n",
      "call_date    0\n",
      "duration     0\n",
      "dtype: int64\n",
      "---------------------------------------\n",
      "The description\n",
      "             user_id       duration\n",
      "count  137735.000000  137735.000000\n",
      "mean     1247.658046       6.745927\n",
      "std       139.416268       5.839241\n",
      "min      1000.000000       0.000000\n",
      "25%      1128.000000       1.290000\n",
      "50%      1247.000000       5.980000\n",
      "75%      1365.000000      10.690000\n",
      "max      1499.000000      37.600000\n",
      "---------------------------------------\n",
      "A sample\n",
      "             id  user_id   call_date  duration\n",
      "7819   1036_411     1036  2018-07-13     10.04\n",
      "39876  1147_682     1147  2018-10-01     12.13\n",
      "---------------------------------------\n",
      "\n",
      "The info of\n",
      "<class 'pandas.core.frame.DataFrame'>\n",
      "RangeIndex: 104825 entries, 0 to 104824\n",
      "Data columns (total 4 columns):\n",
      "id              104825 non-null object\n",
      "user_id         104825 non-null int64\n",
      "session_date    104825 non-null object\n",
      "mb_used         104825 non-null float64\n",
      "dtypes: float64(1), int64(1), object(2)\n",
      "memory usage: 3.2+ MB\n",
      "No. of duplicates 0\n",
      "No. of missing values id              0\n",
      "user_id         0\n",
      "session_date    0\n",
      "mb_used         0\n",
      "dtype: int64\n",
      "---------------------------------------\n",
      "The description\n",
      "             user_id        mb_used\n",
      "count  104825.000000  104825.000000\n",
      "mean     1242.496361     366.713701\n",
      "std       142.053913     277.170542\n",
      "min      1000.000000       0.000000\n",
      "25%      1122.000000     136.080000\n",
      "50%      1236.000000     343.980000\n",
      "75%      1367.000000     554.610000\n",
      "max      1499.000000    1693.470000\n",
      "---------------------------------------\n",
      "A sample\n",
      "             id  user_id session_date  mb_used\n",
      "80488   1376_41     1376   2018-12-07   243.44\n",
      "19982  1090_215     1090   2018-10-13     0.00\n",
      "---------------------------------------\n",
      "\n",
      "The info of\n",
      "<class 'pandas.core.frame.DataFrame'>\n",
      "RangeIndex: 76051 entries, 0 to 76050\n",
      "Data columns (total 3 columns):\n",
      "id              76051 non-null object\n",
      "user_id         76051 non-null int64\n",
      "message_date    76051 non-null object\n",
      "dtypes: int64(1), object(2)\n",
      "memory usage: 1.7+ MB\n",
      "No. of duplicates 0\n",
      "No. of missing values id              0\n",
      "user_id         0\n",
      "message_date    0\n",
      "dtype: int64\n",
      "---------------------------------------\n",
      "The description\n",
      "            user_id\n",
      "count  76051.000000\n",
      "mean    1245.972768\n",
      "std      139.843635\n",
      "min     1000.000000\n",
      "25%     1123.000000\n",
      "50%     1251.000000\n",
      "75%     1362.000000\n",
      "max     1497.000000\n",
      "---------------------------------------\n",
      "A sample\n",
      "             id  user_id message_date\n",
      "52060  1335_652     1335   2018-10-28\n",
      "4907   1045_249     1045   2018-12-24\n",
      "---------------------------------------\n",
      "\n",
      "The info of\n",
      "<class 'pandas.core.frame.DataFrame'>\n",
      "RangeIndex: 2 entries, 0 to 1\n",
      "Data columns (total 8 columns):\n",
      "messages_included        2 non-null int64\n",
      "mb_per_month_included    2 non-null int64\n",
      "minutes_included         2 non-null int64\n",
      "usd_monthly_pay          2 non-null int64\n",
      "usd_per_gb               2 non-null int64\n",
      "usd_per_message          2 non-null float64\n",
      "usd_per_minute           2 non-null float64\n",
      "plan_name                2 non-null object\n",
      "dtypes: float64(2), int64(5), object(1)\n",
      "memory usage: 256.0+ bytes\n",
      "No. of duplicates 0\n",
      "No. of missing values messages_included        0\n",
      "mb_per_month_included    0\n",
      "minutes_included         0\n",
      "usd_monthly_pay          0\n",
      "usd_per_gb               0\n",
      "usd_per_message          0\n",
      "usd_per_minute           0\n",
      "plan_name                0\n",
      "dtype: int64\n",
      "---------------------------------------\n",
      "The description\n",
      "       messages_included  mb_per_month_included  minutes_included  \\\n",
      "count           2.000000               2.000000          2.000000   \n",
      "mean          525.000000           23040.000000       1750.000000   \n",
      "std           671.751442           10861.160159       1767.766953   \n",
      "min            50.000000           15360.000000        500.000000   \n",
      "25%           287.500000           19200.000000       1125.000000   \n",
      "50%           525.000000           23040.000000       1750.000000   \n",
      "75%           762.500000           26880.000000       2375.000000   \n",
      "max          1000.000000           30720.000000       3000.000000   \n",
      "\n",
      "       usd_monthly_pay  usd_per_gb  usd_per_message  usd_per_minute  \n",
      "count         2.000000     2.00000         2.000000        2.000000  \n",
      "mean         45.000000     8.50000         0.020000        0.020000  \n",
      "std          35.355339     2.12132         0.014142        0.014142  \n",
      "min          20.000000     7.00000         0.010000        0.010000  \n",
      "25%          32.500000     7.75000         0.015000        0.015000  \n",
      "50%          45.000000     8.50000         0.020000        0.020000  \n",
      "75%          57.500000     9.25000         0.025000        0.025000  \n",
      "max          70.000000    10.00000         0.030000        0.030000  \n",
      "---------------------------------------\n",
      "A sample\n",
      "   messages_included  mb_per_month_included  minutes_included  \\\n",
      "1               1000                  30720              3000   \n",
      "0                 50                  15360               500   \n",
      "\n",
      "   usd_monthly_pay  usd_per_gb  usd_per_message  usd_per_minute plan_name  \n",
      "1               70           7             0.01            0.01  ultimate  \n",
      "0               20          10             0.03            0.03      surf  \n",
      "---------------------------------------\n",
      "\n",
      "The info of\n",
      "<class 'pandas.core.frame.DataFrame'>\n",
      "RangeIndex: 500 entries, 0 to 499\n",
      "Data columns (total 8 columns):\n",
      "user_id       500 non-null int64\n",
      "first_name    500 non-null object\n",
      "last_name     500 non-null object\n",
      "age           500 non-null int64\n",
      "city          500 non-null object\n",
      "reg_date      500 non-null object\n",
      "plan          500 non-null object\n",
      "churn_date    34 non-null object\n",
      "dtypes: int64(2), object(6)\n",
      "memory usage: 31.4+ KB\n",
      "No. of duplicates 0\n",
      "No. of missing values user_id         0\n",
      "first_name      0\n",
      "last_name       0\n",
      "age             0\n",
      "city            0\n",
      "reg_date        0\n",
      "plan            0\n",
      "churn_date    466\n",
      "dtype: int64\n",
      "---------------------------------------\n",
      "The description\n",
      "           user_id         age\n",
      "count   500.000000  500.000000\n",
      "mean   1249.500000   45.486000\n",
      "std     144.481833   16.972269\n",
      "min    1000.000000   18.000000\n",
      "25%    1124.750000   30.000000\n",
      "50%    1249.500000   46.000000\n",
      "75%    1374.250000   61.000000\n",
      "max    1499.000000   75.000000\n",
      "---------------------------------------\n",
      "A sample\n",
      "     user_id first_name last_name  age  \\\n",
      "208     1208    Enrique   Ramirez   44   \n",
      "122     1122     Lashay     Reese   57   \n",
      "\n",
      "                                              city    reg_date  plan  \\\n",
      "208         San Diego-Chula Vista-Carlsbad, CA MSA  2018-07-17  surf   \n",
      "122  Miami-Fort Lauderdale-West Palm Beach, FL MSA  2018-03-04  surf   \n",
      "\n",
      "    churn_date  \n",
      "208        NaN  \n",
      "122        NaN  \n",
      "---------------------------------------\n",
      "\n"
     ]
    }
   ],
   "source": [
    "for parameter in [call_data, web_data, sms_data, plan_data, user_data]:\n",
    "    first_look(parameter)"
   ]
  },
  {
   "cell_type": "markdown",
   "metadata": {},
   "source": [
    "what we see here is that the data is devided into 4 tables \n",
    "\n",
    "- user-has all the user data(name, age, city, registration date, mobile plan kind and churn)500 rows, 0 null, 0 duplicated. for churn most are missing but this means these are active users the datatype should be boolien\n",
    "\n",
    "- sms-has info about 76051 messages and their corresponding user id and date sent. every message has a row.\n",
    "\n",
    "- web-has info about 104825 web sessions and their corresponding user id ,session date and megabytes used. every session has a row\n",
    "\n",
    "- call-has info about 137735 calls and their corresponding user id duration and date. every call has a row. We do see that some call have a 0 duration, this is not a problem since these calls will not affect the summing for each user.\n",
    "\n",
    "- plan- is a dicription of the two different plans and their costs, conditions and terms\n",
    "\n",
    "Next steps: \n",
    "\n",
    "First we need to check the dates for our data and create a month column for each data set.\n",
    "\n",
    "Then we need to create one table with all of the web, call and sms data summed up for each month and grouped by user."
   ]
  },
  {
   "cell_type": "markdown",
   "metadata": {},
   "source": [
    "# Step 2. Prepare the data"
   ]
  },
  {
   "cell_type": "code",
   "execution_count": 6,
   "metadata": {},
   "outputs": [
    {
     "data": {
      "text/plain": [
       "count                  137735\n",
       "unique                    351\n",
       "top       2018-12-27 00:00:00\n",
       "freq                     1091\n",
       "first     2018-01-15 00:00:00\n",
       "last      2018-12-31 00:00:00\n",
       "Name: call_date, dtype: object"
      ]
     },
     "execution_count": 6,
     "metadata": {},
     "output_type": "execute_result"
    }
   ],
   "source": [
    "call_data['call_date'] = call_data.call_date.astype('datetime64[m]')\n",
    "\n",
    "call_data.call_date.describe()"
   ]
  },
  {
   "cell_type": "markdown",
   "metadata": {},
   "source": [
    "The date dtype is good and the range is right"
   ]
  },
  {
   "cell_type": "code",
   "execution_count": 7,
   "metadata": {},
   "outputs": [
    {
     "data": {
      "text/html": [
       "<div>\n",
       "<style scoped>\n",
       "    .dataframe tbody tr th:only-of-type {\n",
       "        vertical-align: middle;\n",
       "    }\n",
       "\n",
       "    .dataframe tbody tr th {\n",
       "        vertical-align: top;\n",
       "    }\n",
       "\n",
       "    .dataframe thead th {\n",
       "        text-align: right;\n",
       "    }\n",
       "</style>\n",
       "<table border=\"1\" class=\"dataframe\">\n",
       "  <thead>\n",
       "    <tr style=\"text-align: right;\">\n",
       "      <th></th>\n",
       "      <th>id</th>\n",
       "      <th>user_id</th>\n",
       "      <th>call_date</th>\n",
       "      <th>duration</th>\n",
       "      <th>month</th>\n",
       "    </tr>\n",
       "  </thead>\n",
       "  <tbody>\n",
       "    <tr>\n",
       "      <td>99512</td>\n",
       "      <td>1357_295</td>\n",
       "      <td>1357</td>\n",
       "      <td>2018-09-11</td>\n",
       "      <td>9.76</td>\n",
       "      <td>9</td>\n",
       "    </tr>\n",
       "    <tr>\n",
       "      <td>30619</td>\n",
       "      <td>1114_545</td>\n",
       "      <td>1114</td>\n",
       "      <td>2018-11-04</td>\n",
       "      <td>4.52</td>\n",
       "      <td>11</td>\n",
       "    </tr>\n",
       "  </tbody>\n",
       "</table>\n",
       "</div>"
      ],
      "text/plain": [
       "             id  user_id  call_date  duration  month\n",
       "99512  1357_295     1357 2018-09-11      9.76      9\n",
       "30619  1114_545     1114 2018-11-04      4.52     11"
      ]
     },
     "execution_count": 7,
     "metadata": {},
     "output_type": "execute_result"
    }
   ],
   "source": [
    "call_data['month'] = pd.DatetimeIndex(call_data['call_date']).month\n",
    "call_data.sample(2)"
   ]
  },
  {
   "cell_type": "markdown",
   "metadata": {},
   "source": [
    "Next we'll round up the call duration and then group and sum it because this is how Megaline does it"
   ]
  },
  {
   "cell_type": "code",
   "execution_count": 8,
   "metadata": {},
   "outputs": [
    {
     "data": {
      "text/html": [
       "<div>\n",
       "<style scoped>\n",
       "    .dataframe tbody tr th:only-of-type {\n",
       "        vertical-align: middle;\n",
       "    }\n",
       "\n",
       "    .dataframe tbody tr th {\n",
       "        vertical-align: top;\n",
       "    }\n",
       "\n",
       "    .dataframe thead th {\n",
       "        text-align: right;\n",
       "    }\n",
       "</style>\n",
       "<table border=\"1\" class=\"dataframe\">\n",
       "  <thead>\n",
       "    <tr style=\"text-align: right;\">\n",
       "      <th></th>\n",
       "      <th>id</th>\n",
       "      <th>user_id</th>\n",
       "      <th>call_date</th>\n",
       "      <th>duration</th>\n",
       "      <th>month</th>\n",
       "    </tr>\n",
       "  </thead>\n",
       "  <tbody>\n",
       "    <tr>\n",
       "      <td>87833</td>\n",
       "      <td>1321_704</td>\n",
       "      <td>1321</td>\n",
       "      <td>2018-09-21</td>\n",
       "      <td>3.0</td>\n",
       "      <td>9</td>\n",
       "    </tr>\n",
       "    <tr>\n",
       "      <td>53414</td>\n",
       "      <td>1192_52</td>\n",
       "      <td>1192</td>\n",
       "      <td>2018-11-07</td>\n",
       "      <td>17.0</td>\n",
       "      <td>11</td>\n",
       "    </tr>\n",
       "  </tbody>\n",
       "</table>\n",
       "</div>"
      ],
      "text/plain": [
       "             id  user_id  call_date  duration  month\n",
       "87833  1321_704     1321 2018-09-21       3.0      9\n",
       "53414   1192_52     1192 2018-11-07      17.0     11"
      ]
     },
     "execution_count": 8,
     "metadata": {},
     "output_type": "execute_result"
    }
   ],
   "source": [
    "call_data['duration'] = call_data['duration'].apply(np.ceil)\n",
    "call_data.sample(2)"
   ]
  },
  {
   "cell_type": "markdown",
   "metadata": {},
   "source": [
    "Month column looks good"
   ]
  },
  {
   "cell_type": "code",
   "execution_count": 9,
   "metadata": {},
   "outputs": [],
   "source": [
    "call_group = call_data.groupby(['user_id','month'])['duration'].sum().reset_index()"
   ]
  },
  {
   "cell_type": "code",
   "execution_count": 10,
   "metadata": {},
   "outputs": [
    {
     "data": {
      "text/plain": [
       "count                  104825\n",
       "unique                    351\n",
       "top       2018-12-24 00:00:00\n",
       "freq                      851\n",
       "first     2018-01-15 00:00:00\n",
       "last      2018-12-31 00:00:00\n",
       "Name: session_date, dtype: object"
      ]
     },
     "execution_count": 10,
     "metadata": {},
     "output_type": "execute_result"
    }
   ],
   "source": [
    "web_data['session_date'] = web_data.session_date.astype('datetime64[m]')\n",
    "web_data.session_date.describe()"
   ]
  },
  {
   "cell_type": "markdown",
   "metadata": {},
   "source": [
    "good date range"
   ]
  },
  {
   "cell_type": "code",
   "execution_count": 11,
   "metadata": {},
   "outputs": [
    {
     "data": {
      "text/html": [
       "<div>\n",
       "<style scoped>\n",
       "    .dataframe tbody tr th:only-of-type {\n",
       "        vertical-align: middle;\n",
       "    }\n",
       "\n",
       "    .dataframe tbody tr th {\n",
       "        vertical-align: top;\n",
       "    }\n",
       "\n",
       "    .dataframe thead th {\n",
       "        text-align: right;\n",
       "    }\n",
       "</style>\n",
       "<table border=\"1\" class=\"dataframe\">\n",
       "  <thead>\n",
       "    <tr style=\"text-align: right;\">\n",
       "      <th></th>\n",
       "      <th>id</th>\n",
       "      <th>user_id</th>\n",
       "      <th>session_date</th>\n",
       "      <th>mb_used</th>\n",
       "      <th>month</th>\n",
       "    </tr>\n",
       "  </thead>\n",
       "  <tbody>\n",
       "    <tr>\n",
       "      <td>80776</td>\n",
       "      <td>1377_201</td>\n",
       "      <td>1377</td>\n",
       "      <td>2018-11-05</td>\n",
       "      <td>684.44</td>\n",
       "      <td>11</td>\n",
       "    </tr>\n",
       "    <tr>\n",
       "      <td>31117</td>\n",
       "      <td>1142_80</td>\n",
       "      <td>1142</td>\n",
       "      <td>2018-12-07</td>\n",
       "      <td>777.99</td>\n",
       "      <td>12</td>\n",
       "    </tr>\n",
       "  </tbody>\n",
       "</table>\n",
       "</div>"
      ],
      "text/plain": [
       "             id  user_id session_date  mb_used  month\n",
       "80776  1377_201     1377   2018-11-05   684.44     11\n",
       "31117   1142_80     1142   2018-12-07   777.99     12"
      ]
     },
     "execution_count": 11,
     "metadata": {},
     "output_type": "execute_result"
    }
   ],
   "source": [
    "web_data['month'] = pd.DatetimeIndex(web_data['session_date']).month\n",
    "web_data.sample(2)"
   ]
  },
  {
   "cell_type": "markdown",
   "metadata": {},
   "source": [
    "looks good. Next we'll group and sum but we wont round just yet again because this is how Megaline does it"
   ]
  },
  {
   "cell_type": "code",
   "execution_count": 12,
   "metadata": {},
   "outputs": [],
   "source": [
    "web_group = web_data.groupby(['user_id','month'])['mb_used'].sum().reset_index()"
   ]
  },
  {
   "cell_type": "code",
   "execution_count": 13,
   "metadata": {},
   "outputs": [
    {
     "data": {
      "text/plain": [
       "count                   76051\n",
       "unique                    351\n",
       "top       2018-12-28 00:00:00\n",
       "freq                      702\n",
       "first     2018-01-15 00:00:00\n",
       "last      2018-12-31 00:00:00\n",
       "Name: message_date, dtype: object"
      ]
     },
     "execution_count": 13,
     "metadata": {},
     "output_type": "execute_result"
    }
   ],
   "source": [
    "sms_data['message_date'] = sms_data.message_date.astype('datetime64[m]')\n",
    "sms_data.message_date.describe()"
   ]
  },
  {
   "cell_type": "markdown",
   "metadata": {},
   "source": [
    "So much fun when dates are good :)"
   ]
  },
  {
   "cell_type": "code",
   "execution_count": 14,
   "metadata": {},
   "outputs": [
    {
     "data": {
      "text/html": [
       "<div>\n",
       "<style scoped>\n",
       "    .dataframe tbody tr th:only-of-type {\n",
       "        vertical-align: middle;\n",
       "    }\n",
       "\n",
       "    .dataframe tbody tr th {\n",
       "        vertical-align: top;\n",
       "    }\n",
       "\n",
       "    .dataframe thead th {\n",
       "        text-align: right;\n",
       "    }\n",
       "</style>\n",
       "<table border=\"1\" class=\"dataframe\">\n",
       "  <thead>\n",
       "    <tr style=\"text-align: right;\">\n",
       "      <th></th>\n",
       "      <th>id</th>\n",
       "      <th>user_id</th>\n",
       "      <th>message_date</th>\n",
       "      <th>month</th>\n",
       "    </tr>\n",
       "  </thead>\n",
       "  <tbody>\n",
       "    <tr>\n",
       "      <td>73282</td>\n",
       "      <td>1470_910</td>\n",
       "      <td>1470</td>\n",
       "      <td>2018-07-06</td>\n",
       "      <td>7</td>\n",
       "    </tr>\n",
       "    <tr>\n",
       "      <td>32984</td>\n",
       "      <td>1205_59</td>\n",
       "      <td>1205</td>\n",
       "      <td>2018-11-22</td>\n",
       "      <td>11</td>\n",
       "    </tr>\n",
       "  </tbody>\n",
       "</table>\n",
       "</div>"
      ],
      "text/plain": [
       "             id  user_id message_date  month\n",
       "73282  1470_910     1470   2018-07-06      7\n",
       "32984   1205_59     1205   2018-11-22     11"
      ]
     },
     "execution_count": 14,
     "metadata": {},
     "output_type": "execute_result"
    }
   ],
   "source": [
    "sms_data['month'] = pd.DatetimeIndex(sms_data['message_date']).month\n",
    "sms_data.sample(2)"
   ]
  },
  {
   "cell_type": "markdown",
   "metadata": {},
   "source": [
    "OK. now we'll group and count the id column. This will give us the total per user per month "
   ]
  },
  {
   "cell_type": "code",
   "execution_count": 15,
   "metadata": {},
   "outputs": [],
   "source": [
    "sms_group = sms_data.groupby(['user_id','month'])['id'].count().reset_index()"
   ]
  },
  {
   "cell_type": "markdown",
   "metadata": {},
   "source": [
    "Next we'll create our new df with all of our groupped data. But first check each group's legth to see how we suold merge them"
   ]
  },
  {
   "cell_type": "code",
   "execution_count": 16,
   "metadata": {},
   "outputs": [
    {
     "name": "stdout",
     "output_type": "stream",
     "text": [
      "call group length: 2258\n",
      "web group length: 2277\n",
      "sms group length: 1806\n"
     ]
    }
   ],
   "source": [
    "print('call group length:',len(call_group))\n",
    "print('web group length:',len(web_group))\n",
    "print('sms group length:',len(sms_group))"
   ]
  },
  {
   "cell_type": "markdown",
   "metadata": {},
   "source": [
    "### Data mergeing"
   ]
  },
  {
   "cell_type": "markdown",
   "metadata": {},
   "source": [
    "Since we can have a user that made calls but did not send sms in some month or any other combination of the three, we'll use our largest group as the basis for the new table and fill in missing values that occor with 0's"
   ]
  },
  {
   "cell_type": "code",
   "execution_count": 17,
   "metadata": {},
   "outputs": [
    {
     "name": "stdout",
     "output_type": "stream",
     "text": [
      "2293\n",
      "<class 'pandas.core.frame.DataFrame'>\n",
      "RangeIndex: 2293 entries, 0 to 2292\n",
      "Data columns (total 6 columns):\n",
      "index       2293 non-null int64\n",
      "user_id     2293 non-null int64\n",
      "month       2293 non-null int64\n",
      "mb_used     2293 non-null float64\n",
      "duration    2293 non-null float64\n",
      "id          2293 non-null float64\n",
      "dtypes: float64(3), int64(3)\n",
      "memory usage: 107.6 KB\n"
     ]
    }
   ],
   "source": [
    "megaline_web_call = pd.merge(left=web_group, right=call_group, how='outer', on=['user_id','month']).fillna(0)\n",
    "\n",
    "megaline_web_call_sms = pd.merge(left=megaline_web_call, right=sms_group, how='outer', on=['user_id','month']).fillna(0).reset_index()\n",
    "\n",
    "print(len(megaline_web_call_sms))\n",
    "megaline_web_call_sms.info()"
   ]
  },
  {
   "cell_type": "markdown",
   "metadata": {},
   "source": [
    "Looks good. next we'll add each user's plan type from the user data and roud up the mb used to the next gigabyte"
   ]
  },
  {
   "cell_type": "code",
   "execution_count": 18,
   "metadata": {},
   "outputs": [
    {
     "data": {
      "text/html": [
       "<div>\n",
       "<style scoped>\n",
       "    .dataframe tbody tr th:only-of-type {\n",
       "        vertical-align: middle;\n",
       "    }\n",
       "\n",
       "    .dataframe tbody tr th {\n",
       "        vertical-align: top;\n",
       "    }\n",
       "\n",
       "    .dataframe thead th {\n",
       "        text-align: right;\n",
       "    }\n",
       "</style>\n",
       "<table border=\"1\" class=\"dataframe\">\n",
       "  <thead>\n",
       "    <tr style=\"text-align: right;\">\n",
       "      <th></th>\n",
       "      <th>index</th>\n",
       "      <th>user_id</th>\n",
       "      <th>city</th>\n",
       "      <th>month</th>\n",
       "      <th>duration</th>\n",
       "      <th>mb_used</th>\n",
       "      <th>id</th>\n",
       "      <th>plan</th>\n",
       "    </tr>\n",
       "  </thead>\n",
       "  <tbody>\n",
       "    <tr>\n",
       "      <td>0</td>\n",
       "      <td>1682</td>\n",
       "      <td>1362</td>\n",
       "      <td>Denver-Aurora-Lakewood, CO MSA</td>\n",
       "      <td>7.0</td>\n",
       "      <td>955.0</td>\n",
       "      <td>15172.02</td>\n",
       "      <td>55.0</td>\n",
       "      <td>surf</td>\n",
       "    </tr>\n",
       "    <tr>\n",
       "      <td>1</td>\n",
       "      <td>844</td>\n",
       "      <td>1175</td>\n",
       "      <td>New York-Newark-Jersey City, NY-NJ-PA MSA</td>\n",
       "      <td>11.0</td>\n",
       "      <td>718.0</td>\n",
       "      <td>17196.53</td>\n",
       "      <td>30.0</td>\n",
       "      <td>surf</td>\n",
       "    </tr>\n",
       "    <tr>\n",
       "      <td>2</td>\n",
       "      <td>36</td>\n",
       "      <td>1009</td>\n",
       "      <td>San Jose-Sunnyvale-Santa Clara, CA MSA</td>\n",
       "      <td>12.0</td>\n",
       "      <td>756.0</td>\n",
       "      <td>23922.60</td>\n",
       "      <td>0.0</td>\n",
       "      <td>surf</td>\n",
       "    </tr>\n",
       "    <tr>\n",
       "      <td>3</td>\n",
       "      <td>376</td>\n",
       "      <td>1079</td>\n",
       "      <td>New York-Newark-Jersey City, NY-NJ-PA MSA</td>\n",
       "      <td>8.0</td>\n",
       "      <td>841.0</td>\n",
       "      <td>21227.57</td>\n",
       "      <td>71.0</td>\n",
       "      <td>surf</td>\n",
       "    </tr>\n",
       "    <tr>\n",
       "      <td>4</td>\n",
       "      <td>1226</td>\n",
       "      <td>1259</td>\n",
       "      <td>Philadelphia-Camden-Wilmington, PA-NJ-DE-MD MSA</td>\n",
       "      <td>3.0</td>\n",
       "      <td>161.0</td>\n",
       "      <td>1280.90</td>\n",
       "      <td>17.0</td>\n",
       "      <td>surf</td>\n",
       "    </tr>\n",
       "  </tbody>\n",
       "</table>\n",
       "</div>"
      ],
      "text/plain": [
       "   index  user_id                                             city  month  \\\n",
       "0   1682     1362                   Denver-Aurora-Lakewood, CO MSA    7.0   \n",
       "1    844     1175        New York-Newark-Jersey City, NY-NJ-PA MSA   11.0   \n",
       "2     36     1009           San Jose-Sunnyvale-Santa Clara, CA MSA   12.0   \n",
       "3    376     1079        New York-Newark-Jersey City, NY-NJ-PA MSA    8.0   \n",
       "4   1226     1259  Philadelphia-Camden-Wilmington, PA-NJ-DE-MD MSA    3.0   \n",
       "\n",
       "   duration   mb_used    id  plan  \n",
       "0     955.0  15172.02  55.0  surf  \n",
       "1     718.0  17196.53  30.0  surf  \n",
       "2     756.0  23922.60   0.0  surf  \n",
       "3     841.0  21227.57  71.0  surf  \n",
       "4     161.0   1280.90  17.0  surf  "
      ]
     },
     "execution_count": 18,
     "metadata": {},
     "output_type": "execute_result"
    }
   ],
   "source": [
    "megaline_web_call_sms_plan = pd.merge(left=megaline_web_call_sms,right=user_data, how='outer',on=['user_id']).reset_index()\n",
    "megaline_total = megaline_web_call_sms_plan[['user_id','city','month','duration','mb_used','id','plan']].copy()\n",
    "megaline_total.sample(5).reset_index()"
   ]
  },
  {
   "cell_type": "markdown",
   "metadata": {},
   "source": [
    "##### add GB\n"
   ]
  },
  {
   "cell_type": "markdown",
   "metadata": {},
   "source": [
    "Now we'll round up the mb used and fix the column names"
   ]
  },
  {
   "cell_type": "code",
   "execution_count": 19,
   "metadata": {},
   "outputs": [
    {
     "data": {
      "text/html": [
       "<div>\n",
       "<style scoped>\n",
       "    .dataframe tbody tr th:only-of-type {\n",
       "        vertical-align: middle;\n",
       "    }\n",
       "\n",
       "    .dataframe tbody tr th {\n",
       "        vertical-align: top;\n",
       "    }\n",
       "\n",
       "    .dataframe thead th {\n",
       "        text-align: right;\n",
       "    }\n",
       "</style>\n",
       "<table border=\"1\" class=\"dataframe\">\n",
       "  <thead>\n",
       "    <tr style=\"text-align: right;\">\n",
       "      <th></th>\n",
       "      <th>index</th>\n",
       "      <th>user_id</th>\n",
       "      <th>city</th>\n",
       "      <th>month</th>\n",
       "      <th>total_call</th>\n",
       "      <th>total_gb</th>\n",
       "      <th>total_sms</th>\n",
       "      <th>plan</th>\n",
       "    </tr>\n",
       "  </thead>\n",
       "  <tbody>\n",
       "    <tr>\n",
       "      <td>2195</td>\n",
       "      <td>2195</td>\n",
       "      <td>1478</td>\n",
       "      <td>Portland-Vancouver-Hillsboro, OR-WA MSA</td>\n",
       "      <td>10.0</td>\n",
       "      <td>369.0</td>\n",
       "      <td>12.0</td>\n",
       "      <td>12.0</td>\n",
       "      <td>ultimate</td>\n",
       "    </tr>\n",
       "    <tr>\n",
       "      <td>1309</td>\n",
       "      <td>1309</td>\n",
       "      <td>1279</td>\n",
       "      <td>Baton Rouge, LA MSA</td>\n",
       "      <td>11.0</td>\n",
       "      <td>461.0</td>\n",
       "      <td>14.0</td>\n",
       "      <td>21.0</td>\n",
       "      <td>ultimate</td>\n",
       "    </tr>\n",
       "    <tr>\n",
       "      <td>1494</td>\n",
       "      <td>1494</td>\n",
       "      <td>1326</td>\n",
       "      <td>Greensboro-High Point, NC MSA</td>\n",
       "      <td>8.0</td>\n",
       "      <td>1029.0</td>\n",
       "      <td>10.0</td>\n",
       "      <td>71.0</td>\n",
       "      <td>surf</td>\n",
       "    </tr>\n",
       "    <tr>\n",
       "      <td>2189</td>\n",
       "      <td>2189</td>\n",
       "      <td>1476</td>\n",
       "      <td>Los Angeles-Long Beach-Anaheim, CA MSA</td>\n",
       "      <td>12.0</td>\n",
       "      <td>432.0</td>\n",
       "      <td>13.0</td>\n",
       "      <td>41.0</td>\n",
       "      <td>ultimate</td>\n",
       "    </tr>\n",
       "  </tbody>\n",
       "</table>\n",
       "</div>"
      ],
      "text/plain": [
       "      index  user_id                                     city  month  \\\n",
       "2195   2195     1478  Portland-Vancouver-Hillsboro, OR-WA MSA   10.0   \n",
       "1309   1309     1279                      Baton Rouge, LA MSA   11.0   \n",
       "1494   1494     1326            Greensboro-High Point, NC MSA    8.0   \n",
       "2189   2189     1476   Los Angeles-Long Beach-Anaheim, CA MSA   12.0   \n",
       "\n",
       "      total_call  total_gb  total_sms      plan  \n",
       "2195       369.0      12.0       12.0  ultimate  \n",
       "1309       461.0      14.0       21.0  ultimate  \n",
       "1494      1029.0      10.0       71.0      surf  \n",
       "2189       432.0      13.0       41.0  ultimate  "
      ]
     },
     "execution_count": 19,
     "metadata": {},
     "output_type": "execute_result"
    }
   ],
   "source": [
    "megaline_total['mb_used'] = np.around(megaline_total['mb_used'], -3)\n",
    "\n",
    "megaline_total['mb_used'] = megaline_total['mb_used'] / 1000\n",
    "\n",
    "megaline_total = megaline_total.rename(columns={'mb_used':'total_gb','duration':'total_call','id':'total_sms'}).reset_index()\n",
    "\n",
    "megaline_total.sample(4)\n"
   ]
  },
  {
   "cell_type": "markdown",
   "metadata": {},
   "source": [
    "It seems that we have an issue with the dtypes. month should be int or Datetime, as well as total gb/call/sms sould be int. "
   ]
  },
  {
   "cell_type": "code",
   "execution_count": 20,
   "metadata": {},
   "outputs": [
    {
     "name": "stdout",
     "output_type": "stream",
     "text": [
      "<class 'pandas.core.frame.DataFrame'>\n",
      "RangeIndex: 2303 entries, 0 to 2302\n",
      "Data columns (total 9 columns):\n",
      "index         2303 non-null int64\n",
      "user_id       2303 non-null int64\n",
      "city          2303 non-null object\n",
      "month         2293 non-null Int64\n",
      "total_call    2293 non-null Int64\n",
      "total_gb      2293 non-null float64\n",
      "total_sms     2293 non-null Int64\n",
      "plan          2303 non-null object\n",
      "total_mb      2293 non-null Int64\n",
      "dtypes: Int64(4), float64(1), int64(2), object(2)\n",
      "memory usage: 171.1+ KB\n"
     ]
    }
   ],
   "source": [
    "megaline_total['month'] = pd.array(megaline_total['month'],dtype=pd.Int64Dtype())\n",
    "megaline_total['total_call'] = pd.array(megaline_total['total_call'],dtype=pd.Int64Dtype())\n",
    "megaline_total['total_mb'] = pd.array(megaline_total['total_gb'],dtype=pd.Int64Dtype())\n",
    "megaline_total['total_sms'] = pd.array(megaline_total['total_sms'],dtype=pd.Int64Dtype())\n",
    "\n",
    "megaline_total.info()"
   ]
  },
  {
   "cell_type": "code",
   "execution_count": 21,
   "metadata": {},
   "outputs": [
    {
     "data": {
      "text/html": [
       "<div>\n",
       "<style scoped>\n",
       "    .dataframe tbody tr th:only-of-type {\n",
       "        vertical-align: middle;\n",
       "    }\n",
       "\n",
       "    .dataframe tbody tr th {\n",
       "        vertical-align: top;\n",
       "    }\n",
       "\n",
       "    .dataframe thead th {\n",
       "        text-align: right;\n",
       "    }\n",
       "</style>\n",
       "<table border=\"1\" class=\"dataframe\">\n",
       "  <thead>\n",
       "    <tr style=\"text-align: right;\">\n",
       "      <th></th>\n",
       "      <th>index</th>\n",
       "      <th>user_id</th>\n",
       "      <th>city</th>\n",
       "      <th>month</th>\n",
       "      <th>total_call</th>\n",
       "      <th>total_gb</th>\n",
       "      <th>total_sms</th>\n",
       "      <th>plan</th>\n",
       "      <th>total_mb</th>\n",
       "    </tr>\n",
       "  </thead>\n",
       "  <tbody>\n",
       "    <tr>\n",
       "      <td>829</td>\n",
       "      <td>829</td>\n",
       "      <td>1172</td>\n",
       "      <td>Boston-Cambridge-Newton, MA-NH MSA</td>\n",
       "      <td>11</td>\n",
       "      <td>621</td>\n",
       "      <td>26.0</td>\n",
       "      <td>86</td>\n",
       "      <td>surf</td>\n",
       "      <td>26</td>\n",
       "    </tr>\n",
       "    <tr>\n",
       "      <td>2191</td>\n",
       "      <td>2191</td>\n",
       "      <td>1477</td>\n",
       "      <td>Riverside-San Bernardino-Ontario, CA MSA</td>\n",
       "      <td>11</td>\n",
       "      <td>339</td>\n",
       "      <td>19.0</td>\n",
       "      <td>1</td>\n",
       "      <td>ultimate</td>\n",
       "      <td>19</td>\n",
       "    </tr>\n",
       "    <tr>\n",
       "      <td>2242</td>\n",
       "      <td>2242</td>\n",
       "      <td>1491</td>\n",
       "      <td>Grand Rapids-Kentwood, MI MSA</td>\n",
       "      <td>11</td>\n",
       "      <td>409</td>\n",
       "      <td>5.0</td>\n",
       "      <td>46</td>\n",
       "      <td>surf</td>\n",
       "      <td>5</td>\n",
       "    </tr>\n",
       "    <tr>\n",
       "      <td>851</td>\n",
       "      <td>851</td>\n",
       "      <td>1178</td>\n",
       "      <td>Cincinnati, OH-KY-IN MSA</td>\n",
       "      <td>10</td>\n",
       "      <td>396</td>\n",
       "      <td>12.0</td>\n",
       "      <td>39</td>\n",
       "      <td>surf</td>\n",
       "      <td>12</td>\n",
       "    </tr>\n",
       "    <tr>\n",
       "      <td>1603</td>\n",
       "      <td>1603</td>\n",
       "      <td>1347</td>\n",
       "      <td>Charleston-North Charleston, SC MSA</td>\n",
       "      <td>10</td>\n",
       "      <td>420</td>\n",
       "      <td>22.0</td>\n",
       "      <td>73</td>\n",
       "      <td>ultimate</td>\n",
       "      <td>22</td>\n",
       "    </tr>\n",
       "  </tbody>\n",
       "</table>\n",
       "</div>"
      ],
      "text/plain": [
       "      index  user_id                                      city  month  \\\n",
       "829     829     1172        Boston-Cambridge-Newton, MA-NH MSA     11   \n",
       "2191   2191     1477  Riverside-San Bernardino-Ontario, CA MSA     11   \n",
       "2242   2242     1491             Grand Rapids-Kentwood, MI MSA     11   \n",
       "851     851     1178                  Cincinnati, OH-KY-IN MSA     10   \n",
       "1603   1603     1347       Charleston-North Charleston, SC MSA     10   \n",
       "\n",
       "      total_call  total_gb  total_sms      plan  total_mb  \n",
       "829          621      26.0         86      surf        26  \n",
       "2191         339      19.0          1  ultimate        19  \n",
       "2242         409       5.0         46      surf         5  \n",
       "851          396      12.0         39      surf        12  \n",
       "1603         420      22.0         73  ultimate        22  "
      ]
     },
     "execution_count": 21,
     "metadata": {},
     "output_type": "execute_result"
    }
   ],
   "source": [
    "megaline_total.sample(5)"
   ]
  },
  {
   "cell_type": "markdown",
   "metadata": {},
   "source": [
    "Looks like we have a nice df to work with\n",
    "\n",
    "Now lets add a column for the monthly revenue frome each user"
   ]
  },
  {
   "cell_type": "markdown",
   "metadata": {},
   "source": [
    "### Adding monthly revenue"
   ]
  },
  {
   "cell_type": "code",
   "execution_count": 22,
   "metadata": {},
   "outputs": [],
   "source": [
    "def cost(row):\n",
    "    plan = row['plan']\n",
    "    call = row['total_call']\n",
    "    gb = row['total_gb']\n",
    "    sms = row['total_sms']\n",
    "    \n",
    "#lets add the monthly plan rate\n",
    "    \n",
    "    if plan == 'ultimate':\n",
    "        plan_cost=70\n",
    "    else:\n",
    "        plan_cost=20\n",
    "        \n",
    "#lets calculate the call cost\n",
    "\n",
    "    if plan =='ultimate' and call>3000:\n",
    "        call_cost = (call-3000)*0.01\n",
    "    elif plan =='surf' and call>500:\n",
    "        call_cost = (call-500)*0.03\n",
    "    else:\n",
    "        call_cost=0\n",
    "        \n",
    "#lets calculate the internet cost\n",
    "      \n",
    "    if plan =='ultimate' and gb>30:\n",
    "        gb_cost = (gb-30)*7\n",
    "    elif plan =='surf' and gb>15:\n",
    "        gb_cost = (gb-15)*10\n",
    "    else:\n",
    "        gb_cost=0\n",
    "        \n",
    "#lets calculate the message cost\n",
    "\n",
    "    if plan =='ultimate' and sms>1000:\n",
    "        sms_cost = (sms-1000)*0.01\n",
    "    elif plan =='surf' and sms>50:\n",
    "        sms_cost = (sms-50)*0.03\n",
    "    else:\n",
    "        sms_cost=0\n",
    "        \n",
    "    total_cost = plan_cost+call_cost+gb_cost+sms_cost\n",
    "    return total_cost\n"
   ]
  },
  {
   "cell_type": "code",
   "execution_count": 23,
   "metadata": {},
   "outputs": [],
   "source": [
    "megaline_total['month_rev'] = megaline_total.apply(cost,axis=1)"
   ]
  },
  {
   "cell_type": "code",
   "execution_count": 24,
   "metadata": {},
   "outputs": [
    {
     "name": "stdout",
     "output_type": "stream",
     "text": [
      "<class 'pandas.core.frame.DataFrame'>\n",
      "RangeIndex: 2303 entries, 0 to 2302\n",
      "Data columns (total 10 columns):\n",
      "index         2303 non-null int64\n",
      "user_id       2303 non-null int64\n",
      "city          2303 non-null object\n",
      "month         2293 non-null Int64\n",
      "total_call    2293 non-null Int64\n",
      "total_gb      2293 non-null float64\n",
      "total_sms     2293 non-null Int64\n",
      "plan          2303 non-null object\n",
      "total_mb      2293 non-null Int64\n",
      "month_rev     2303 non-null float64\n",
      "dtypes: Int64(4), float64(2), int64(2), object(2)\n",
      "memory usage: 189.0+ KB\n"
     ]
    }
   ],
   "source": [
    "megaline_total.info()"
   ]
  },
  {
   "cell_type": "code",
   "execution_count": 25,
   "metadata": {},
   "outputs": [
    {
     "data": {
      "text/html": [
       "<div>\n",
       "<style scoped>\n",
       "    .dataframe tbody tr th:only-of-type {\n",
       "        vertical-align: middle;\n",
       "    }\n",
       "\n",
       "    .dataframe tbody tr th {\n",
       "        vertical-align: top;\n",
       "    }\n",
       "\n",
       "    .dataframe thead th {\n",
       "        text-align: right;\n",
       "    }\n",
       "</style>\n",
       "<table border=\"1\" class=\"dataframe\">\n",
       "  <thead>\n",
       "    <tr style=\"text-align: right;\">\n",
       "      <th></th>\n",
       "      <th>index</th>\n",
       "      <th>user_id</th>\n",
       "      <th>city</th>\n",
       "      <th>month</th>\n",
       "      <th>total_call</th>\n",
       "      <th>total_gb</th>\n",
       "      <th>total_sms</th>\n",
       "      <th>plan</th>\n",
       "      <th>total_mb</th>\n",
       "      <th>month_rev</th>\n",
       "    </tr>\n",
       "  </thead>\n",
       "  <tbody>\n",
       "    <tr>\n",
       "      <td>1706</td>\n",
       "      <td>1706</td>\n",
       "      <td>1366</td>\n",
       "      <td>Cincinnati, OH-KY-IN MSA</td>\n",
       "      <td>10</td>\n",
       "      <td>651</td>\n",
       "      <td>20.0</td>\n",
       "      <td>12</td>\n",
       "      <td>surf</td>\n",
       "      <td>20</td>\n",
       "      <td>74.53</td>\n",
       "    </tr>\n",
       "    <tr>\n",
       "      <td>294</td>\n",
       "      <td>294</td>\n",
       "      <td>1064</td>\n",
       "      <td>New York-Newark-Jersey City, NY-NJ-PA MSA</td>\n",
       "      <td>12</td>\n",
       "      <td>438</td>\n",
       "      <td>18.0</td>\n",
       "      <td>26</td>\n",
       "      <td>surf</td>\n",
       "      <td>18</td>\n",
       "      <td>50.00</td>\n",
       "    </tr>\n",
       "    <tr>\n",
       "      <td>426</td>\n",
       "      <td>426</td>\n",
       "      <td>1089</td>\n",
       "      <td>Philadelphia-Camden-Wilmington, PA-NJ-DE-MD MSA</td>\n",
       "      <td>12</td>\n",
       "      <td>0</td>\n",
       "      <td>17.0</td>\n",
       "      <td>27</td>\n",
       "      <td>surf</td>\n",
       "      <td>17</td>\n",
       "      <td>40.00</td>\n",
       "    </tr>\n",
       "    <tr>\n",
       "      <td>590</td>\n",
       "      <td>590</td>\n",
       "      <td>1126</td>\n",
       "      <td>Chicago-Naperville-Elgin, IL-IN-WI MSA</td>\n",
       "      <td>6</td>\n",
       "      <td>797</td>\n",
       "      <td>28.0</td>\n",
       "      <td>78</td>\n",
       "      <td>ultimate</td>\n",
       "      <td>28</td>\n",
       "      <td>70.00</td>\n",
       "    </tr>\n",
       "    <tr>\n",
       "      <td>1984</td>\n",
       "      <td>1984</td>\n",
       "      <td>1425</td>\n",
       "      <td>Las Vegas-Henderson-Paradise, NV MSA</td>\n",
       "      <td>10</td>\n",
       "      <td>257</td>\n",
       "      <td>18.0</td>\n",
       "      <td>11</td>\n",
       "      <td>surf</td>\n",
       "      <td>18</td>\n",
       "      <td>50.00</td>\n",
       "    </tr>\n",
       "  </tbody>\n",
       "</table>\n",
       "</div>"
      ],
      "text/plain": [
       "      index  user_id                                             city  month  \\\n",
       "1706   1706     1366                         Cincinnati, OH-KY-IN MSA     10   \n",
       "294     294     1064        New York-Newark-Jersey City, NY-NJ-PA MSA     12   \n",
       "426     426     1089  Philadelphia-Camden-Wilmington, PA-NJ-DE-MD MSA     12   \n",
       "590     590     1126           Chicago-Naperville-Elgin, IL-IN-WI MSA      6   \n",
       "1984   1984     1425             Las Vegas-Henderson-Paradise, NV MSA     10   \n",
       "\n",
       "      total_call  total_gb  total_sms      plan  total_mb  month_rev  \n",
       "1706         651      20.0         12      surf        20      74.53  \n",
       "294          438      18.0         26      surf        18      50.00  \n",
       "426            0      17.0         27      surf        17      40.00  \n",
       "590          797      28.0         78  ultimate        28      70.00  \n",
       "1984         257      18.0         11      surf        18      50.00  "
      ]
     },
     "execution_count": 25,
     "metadata": {},
     "output_type": "execute_result"
    }
   ],
   "source": [
    "megaline_total.sample(5)"
   ]
  },
  {
   "cell_type": "markdown",
   "metadata": {},
   "source": [
    "Looks like the function is working propperly"
   ]
  },
  {
   "cell_type": "markdown",
   "metadata": {},
   "source": [
    "# Step 3. Analyze the data"
   ]
  },
  {
   "cell_type": "markdown",
   "metadata": {},
   "source": [
    "First we'll group the data by plan and month then we'll describe the customers' behavior. Find the minutes, texts, and volume of data the users of each plan require per month. Calculate the mean, dispersion, and standard deviation. Plot histograms. Describe the distributions."
   ]
  },
  {
   "cell_type": "code",
   "execution_count": 26,
   "metadata": {},
   "outputs": [],
   "source": [
    "surf_group = megaline_total.query('plan==\"surf\"')\n",
    "ultimate_group = megaline_total.query('plan==\"ultimate\"')"
   ]
  },
  {
   "cell_type": "code",
   "execution_count": 27,
   "metadata": {},
   "outputs": [
    {
     "data": {
      "text/html": [
       "<div>\n",
       "<style scoped>\n",
       "    .dataframe tbody tr th:only-of-type {\n",
       "        vertical-align: middle;\n",
       "    }\n",
       "\n",
       "    .dataframe tbody tr th {\n",
       "        vertical-align: top;\n",
       "    }\n",
       "\n",
       "    .dataframe thead th {\n",
       "        text-align: right;\n",
       "    }\n",
       "</style>\n",
       "<table border=\"1\" class=\"dataframe\">\n",
       "  <thead>\n",
       "    <tr style=\"text-align: right;\">\n",
       "      <th></th>\n",
       "      <th>total_call</th>\n",
       "      <th>total_gb</th>\n",
       "      <th>total_sms</th>\n",
       "      <th>month_rev</th>\n",
       "    </tr>\n",
       "    <tr>\n",
       "      <th>month</th>\n",
       "      <th></th>\n",
       "      <th></th>\n",
       "      <th></th>\n",
       "      <th></th>\n",
       "    </tr>\n",
       "  </thead>\n",
       "  <tbody>\n",
       "    <tr>\n",
       "      <td>1</td>\n",
       "      <td>406</td>\n",
       "      <td>10.0</td>\n",
       "      <td>21</td>\n",
       "      <td>40.00</td>\n",
       "    </tr>\n",
       "    <tr>\n",
       "      <td>2</td>\n",
       "      <td>2673</td>\n",
       "      <td>110.0</td>\n",
       "      <td>108</td>\n",
       "      <td>309.57</td>\n",
       "    </tr>\n",
       "    <tr>\n",
       "      <td>3</td>\n",
       "      <td>7590</td>\n",
       "      <td>306.0</td>\n",
       "      <td>351</td>\n",
       "      <td>1046.65</td>\n",
       "    </tr>\n",
       "    <tr>\n",
       "      <td>4</td>\n",
       "      <td>17577</td>\n",
       "      <td>600.0</td>\n",
       "      <td>870</td>\n",
       "      <td>2035.53</td>\n",
       "    </tr>\n",
       "    <tr>\n",
       "      <td>5</td>\n",
       "      <td>30768</td>\n",
       "      <td>1071.0</td>\n",
       "      <td>1849</td>\n",
       "      <td>3657.37</td>\n",
       "    </tr>\n",
       "    <tr>\n",
       "      <td>6</td>\n",
       "      <td>41836</td>\n",
       "      <td>1490.0</td>\n",
       "      <td>2454</td>\n",
       "      <td>4749.80</td>\n",
       "    </tr>\n",
       "    <tr>\n",
       "      <td>7</td>\n",
       "      <td>54448</td>\n",
       "      <td>2035.0</td>\n",
       "      <td>3271</td>\n",
       "      <td>7603.56</td>\n",
       "    </tr>\n",
       "    <tr>\n",
       "      <td>8</td>\n",
       "      <td>66438</td>\n",
       "      <td>2724.0</td>\n",
       "      <td>4662</td>\n",
       "      <td>10396.85</td>\n",
       "    </tr>\n",
       "    <tr>\n",
       "      <td>9</td>\n",
       "      <td>80360</td>\n",
       "      <td>3214.0</td>\n",
       "      <td>5968</td>\n",
       "      <td>11274.67</td>\n",
       "    </tr>\n",
       "    <tr>\n",
       "      <td>10</td>\n",
       "      <td>101846</td>\n",
       "      <td>4108.0</td>\n",
       "      <td>8020</td>\n",
       "      <td>15474.83</td>\n",
       "    </tr>\n",
       "    <tr>\n",
       "      <td>11</td>\n",
       "      <td>119801</td>\n",
       "      <td>4622.0</td>\n",
       "      <td>9165</td>\n",
       "      <td>16435.21</td>\n",
       "    </tr>\n",
       "    <tr>\n",
       "      <td>12</td>\n",
       "      <td>150680</td>\n",
       "      <td>5769.0</td>\n",
       "      <td>12275</td>\n",
       "      <td>22407.14</td>\n",
       "    </tr>\n",
       "  </tbody>\n",
       "</table>\n",
       "</div>"
      ],
      "text/plain": [
       "       total_call  total_gb  total_sms  month_rev\n",
       "month                                            \n",
       "1             406      10.0         21      40.00\n",
       "2            2673     110.0        108     309.57\n",
       "3            7590     306.0        351    1046.65\n",
       "4           17577     600.0        870    2035.53\n",
       "5           30768    1071.0       1849    3657.37\n",
       "6           41836    1490.0       2454    4749.80\n",
       "7           54448    2035.0       3271    7603.56\n",
       "8           66438    2724.0       4662   10396.85\n",
       "9           80360    3214.0       5968   11274.67\n",
       "10         101846    4108.0       8020   15474.83\n",
       "11         119801    4622.0       9165   16435.21\n",
       "12         150680    5769.0      12275   22407.14"
      ]
     },
     "execution_count": 27,
     "metadata": {},
     "output_type": "execute_result"
    }
   ],
   "source": [
    "surf_group.groupby('month')['total_call','total_gb','total_sms','month_rev'].sum()"
   ]
  },
  {
   "cell_type": "code",
   "execution_count": 28,
   "metadata": {},
   "outputs": [
    {
     "name": "stdout",
     "output_type": "stream",
     "text": [
      "We have 339 Surf users in our data\n"
     ]
    }
   ],
   "source": [
    "print('We have',len(user_data[user_data['plan']=='surf']),'Surf users in our data')"
   ]
  },
  {
   "cell_type": "code",
   "execution_count": 29,
   "metadata": {},
   "outputs": [
    {
     "data": {
      "text/html": [
       "<div>\n",
       "<style scoped>\n",
       "    .dataframe tbody tr th:only-of-type {\n",
       "        vertical-align: middle;\n",
       "    }\n",
       "\n",
       "    .dataframe tbody tr th {\n",
       "        vertical-align: top;\n",
       "    }\n",
       "\n",
       "    .dataframe thead th {\n",
       "        text-align: right;\n",
       "    }\n",
       "</style>\n",
       "<table border=\"1\" class=\"dataframe\">\n",
       "  <thead>\n",
       "    <tr style=\"text-align: right;\">\n",
       "      <th></th>\n",
       "      <th>total_call</th>\n",
       "      <th>total_gb</th>\n",
       "      <th>total_sms</th>\n",
       "      <th>month_rev</th>\n",
       "    </tr>\n",
       "    <tr>\n",
       "      <th>month</th>\n",
       "      <th></th>\n",
       "      <th></th>\n",
       "      <th></th>\n",
       "      <th></th>\n",
       "    </tr>\n",
       "  </thead>\n",
       "  <tbody>\n",
       "    <tr>\n",
       "      <td>1</td>\n",
       "      <td>774</td>\n",
       "      <td>28.0</td>\n",
       "      <td>62</td>\n",
       "      <td>280.0</td>\n",
       "    </tr>\n",
       "    <tr>\n",
       "      <td>2</td>\n",
       "      <td>2822</td>\n",
       "      <td>121.0</td>\n",
       "      <td>151</td>\n",
       "      <td>490.0</td>\n",
       "    </tr>\n",
       "    <tr>\n",
       "      <td>3</td>\n",
       "      <td>3651</td>\n",
       "      <td>221.0</td>\n",
       "      <td>243</td>\n",
       "      <td>896.0</td>\n",
       "    </tr>\n",
       "    <tr>\n",
       "      <td>4</td>\n",
       "      <td>7074</td>\n",
       "      <td>343.0</td>\n",
       "      <td>463</td>\n",
       "      <td>1540.0</td>\n",
       "    </tr>\n",
       "    <tr>\n",
       "      <td>5</td>\n",
       "      <td>11781</td>\n",
       "      <td>481.0</td>\n",
       "      <td>931</td>\n",
       "      <td>2051.0</td>\n",
       "    </tr>\n",
       "    <tr>\n",
       "      <td>6</td>\n",
       "      <td>17435</td>\n",
       "      <td>721.0</td>\n",
       "      <td>1379</td>\n",
       "      <td>3374.0</td>\n",
       "    </tr>\n",
       "    <tr>\n",
       "      <td>7</td>\n",
       "      <td>25197</td>\n",
       "      <td>965.0</td>\n",
       "      <td>1937</td>\n",
       "      <td>4256.0</td>\n",
       "    </tr>\n",
       "    <tr>\n",
       "      <td>8</td>\n",
       "      <td>29922</td>\n",
       "      <td>1261.0</td>\n",
       "      <td>2732</td>\n",
       "      <td>5187.0</td>\n",
       "    </tr>\n",
       "    <tr>\n",
       "      <td>9</td>\n",
       "      <td>37626</td>\n",
       "      <td>1458.0</td>\n",
       "      <td>3259</td>\n",
       "      <td>6209.0</td>\n",
       "    </tr>\n",
       "    <tr>\n",
       "      <td>10</td>\n",
       "      <td>47778</td>\n",
       "      <td>1872.0</td>\n",
       "      <td>4181</td>\n",
       "      <td>7679.0</td>\n",
       "    </tr>\n",
       "    <tr>\n",
       "      <td>11</td>\n",
       "      <td>56540</td>\n",
       "      <td>2162.0</td>\n",
       "      <td>4903</td>\n",
       "      <td>9128.0</td>\n",
       "    </tr>\n",
       "    <tr>\n",
       "      <td>12</td>\n",
       "      <td>69324</td>\n",
       "      <td>2766.0</td>\n",
       "      <td>6796</td>\n",
       "      <td>11095.0</td>\n",
       "    </tr>\n",
       "  </tbody>\n",
       "</table>\n",
       "</div>"
      ],
      "text/plain": [
       "       total_call  total_gb  total_sms  month_rev\n",
       "month                                            \n",
       "1             774      28.0         62      280.0\n",
       "2            2822     121.0        151      490.0\n",
       "3            3651     221.0        243      896.0\n",
       "4            7074     343.0        463     1540.0\n",
       "5           11781     481.0        931     2051.0\n",
       "6           17435     721.0       1379     3374.0\n",
       "7           25197     965.0       1937     4256.0\n",
       "8           29922    1261.0       2732     5187.0\n",
       "9           37626    1458.0       3259     6209.0\n",
       "10          47778    1872.0       4181     7679.0\n",
       "11          56540    2162.0       4903     9128.0\n",
       "12          69324    2766.0       6796    11095.0"
      ]
     },
     "execution_count": 29,
     "metadata": {},
     "output_type": "execute_result"
    }
   ],
   "source": [
    "ultimate_group.groupby('month')['total_call','total_gb','total_sms','month_rev'].sum()"
   ]
  },
  {
   "cell_type": "code",
   "execution_count": 30,
   "metadata": {},
   "outputs": [
    {
     "name": "stdout",
     "output_type": "stream",
     "text": [
      "We have 161 Ultimate users in our data\n"
     ]
    }
   ],
   "source": [
    "print('We have',len(user_data[user_data['plan']=='ultimate']),'Ultimate users in our data')"
   ]
  },
  {
   "cell_type": "markdown",
   "metadata": {},
   "source": [
    "What we can see here is total usage by plan per month. We can also see that our data is biased by month.. every month we have more users so the totals go up. looking at a ditribution by month will not be very informative because of this. also we can see that in our sample we have twice as much surf users than ultimate users"
   ]
  },
  {
   "cell_type": "markdown",
   "metadata": {},
   "source": [
    "#### Call minutes"
   ]
  },
  {
   "cell_type": "code",
   "execution_count": 31,
   "metadata": {},
   "outputs": [
    {
     "data": {
      "image/png": "[encoded data removed]",
      "text/plain": [
       "<Figure size 432x288 with 1 Axes>"
      ]
     },
     "metadata": {
      "needs_background": "light"
     },
     "output_type": "display_data"
    }
   ],
   "source": [
    "p = sns.histplot(data=megaline_total,x='month',y='total_call',hue='plan');\n",
    "plt.title('Distribution of call minutes by month (both plans)');"
   ]
  },
  {
   "cell_type": "markdown",
   "metadata": {},
   "source": [
    "What we see here is the total call minutes used by both plans per month. Not very informative"
   ]
  },
  {
   "cell_type": "code",
   "execution_count": 32,
   "metadata": {},
   "outputs": [
    {
     "data": {
      "image/png": "[encoded data removed]",
      "text/plain": [
       "<Figure size 432x288 with 1 Axes>"
      ]
     },
     "metadata": {
      "needs_background": "light"
     },
     "output_type": "display_data"
    }
   ],
   "source": [
    "p1 = sns.histplot(data=megaline_total,x='total_call',hue='plan',multiple=\"dodge\");\n",
    "plt.title('Distribution of call minutes (both plans)');"
   ]
  },
  {
   "cell_type": "markdown",
   "metadata": {},
   "source": [
    "Here we can see the general dist. of call minutes for both plans. as it appears the dist. is very similar and the difference in bar hight is due to the differnt no. of users for each plan"
   ]
  },
  {
   "cell_type": "code",
   "execution_count": 33,
   "metadata": {},
   "outputs": [
    {
     "data": {
      "image/png": "[encoded data removed]",
      "text/plain": [
       "<Figure size 1152x360 with 2 Axes>"
      ]
     },
     "metadata": {
      "needs_background": "light"
     },
     "output_type": "display_data"
    }
   ],
   "source": [
    "fig, axs = plt.subplots(nrows=1, ncols=2, figsize=(16, 5))\n",
    "\n",
    "\n",
    "\n",
    "axs[0].hist(x = surf_group['total_call'] )\n",
    "axs[0].grid()\n",
    "axs[0].set_title('The distribution of call minutes Surf plan ')\n",
    "axs[0].set_xlabel('Minutes')\n",
    "axs[0].set_ylabel('No. of users')\n",
    "\n",
    "axs[1].hist(x = ultimate_group['total_call'])\n",
    "axs[1].grid()\n",
    "axs[1].set_title('The distribution of call minutes Ultimate plan')\n",
    "axs[1].set_xlabel('Minutes')\n",
    "axs[1].set_ylabel('No. of users')\n",
    "\n",
    "plt.show()"
   ]
  },
  {
   "cell_type": "markdown",
   "metadata": {},
   "source": [
    "Here we can see the dist. of call minutes for each plan seperatly. Again we can see that in both plans used between 200 and 600 minutes, and only a small number exceeded 800."
   ]
  },
  {
   "cell_type": "code",
   "execution_count": 34,
   "metadata": {},
   "outputs": [
    {
     "name": "stdout",
     "output_type": "stream",
     "text": [
      "Surf calls\n",
      "count    1573.000000\n",
      "mean      428.749523\n",
      "std       234.453150\n",
      "min         0.000000\n",
      "25%       272.000000\n",
      "50%       425.000000\n",
      "75%       576.000000\n",
      "max      1510.000000\n",
      "Name: total_call, dtype: float64\n",
      "Surf calls variance: 54968.27946065038\n",
      "----------\n",
      "Ultimate calls\n",
      "count     720.000000\n",
      "mean      430.450000\n",
      "std       240.508762\n",
      "min         0.000000\n",
      "25%       260.000000\n",
      "50%       424.000000\n",
      "75%       565.250000\n",
      "max      1369.000000\n",
      "Name: total_call, dtype: float64\n",
      "Ultimate calls variance: 57844.46481223922\n"
     ]
    }
   ],
   "source": [
    "print('Surf calls') \n",
    "print(surf_group['total_call'].describe())\n",
    "print('Surf calls variance:',surf_group['total_call'].var())\n",
    "print('-'*10)\n",
    "print('Ultimate calls')\n",
    "print(ultimate_group['total_call'].describe())\n",
    "print('Ultimate calls variance:',ultimate_group['total_call'].var())"
   ]
  },
  {
   "cell_type": "markdown",
   "metadata": {},
   "source": [
    "Here we can see that both plans' call minutes mean are similar(428 for Surf, 430 for Ultimate). Also the standart diviation is similar(234 for Surf, 240 for Ultimate).Ultimate calls variance: 57844.464, Surf calls variance: 54968.279"
   ]
  },
  {
   "cell_type": "markdown",
   "metadata": {},
   "source": [
    "#### Internet data"
   ]
  },
  {
   "cell_type": "code",
   "execution_count": 35,
   "metadata": {},
   "outputs": [
    {
     "data": {
      "image/png": "[encoded data removed]",
      "text/plain": [
       "<Figure size 432x288 with 1 Axes>"
      ]
     },
     "metadata": {
      "needs_background": "light"
     },
     "output_type": "display_data"
    }
   ],
   "source": [
    "p2 = sns.histplot(data=megaline_total,x='month',y='total_gb',hue='plan');\n",
    "plt.title('Distribution of web data by month (both plans)');"
   ]
  },
  {
   "cell_type": "code",
   "execution_count": 36,
   "metadata": {},
   "outputs": [
    {
     "data": {
      "image/png": "[encoded data removed]",
      "text/plain": [
       "<Figure size 432x288 with 1 Axes>"
      ]
     },
     "metadata": {
      "needs_background": "light"
     },
     "output_type": "display_data"
    }
   ],
   "source": [
    "p3 = sns.histplot(data=megaline_total,x='total_gb',hue='plan',multiple=\"dodge\");\n",
    "plt.title('Distribution of web data (both plans)');"
   ]
  },
  {
   "cell_type": "markdown",
   "metadata": {},
   "source": [
    "Again we can see that also for internet data usage the users of both plans have very similar behavior"
   ]
  },
  {
   "cell_type": "code",
   "execution_count": 37,
   "metadata": {},
   "outputs": [
    {
     "data": {
      "image/png": "[encoded data removed]",
      "text/plain": [
       "<Figure size 1152x360 with 2 Axes>"
      ]
     },
     "metadata": {
      "needs_background": "light"
     },
     "output_type": "display_data"
    }
   ],
   "source": [
    "fig, axs = plt.subplots(nrows=1, ncols=2, figsize=(16, 5))\n",
    "\n",
    "\n",
    "\n",
    "axs[0].hist(x = surf_group['total_gb'] )\n",
    "axs[0].grid()\n",
    "axs[0].set_title('The distribution of Data usage Surf plan ')\n",
    "axs[0].set_xlabel('Gigabytes')\n",
    "axs[0].set_ylabel('No. of users')\n",
    "\n",
    "axs[1].hist(x = ultimate_group['total_gb'])\n",
    "axs[1].grid()\n",
    "axs[1].set_title('The distribution of Data usage Ultimate plan')\n",
    "axs[1].set_xlabel('Gigabytes')\n",
    "axs[1].set_ylabel('No. of users')\n",
    "\n",
    "plt.show()"
   ]
  },
  {
   "cell_type": "markdown",
   "metadata": {},
   "source": [
    "Here we can see the dist. of internet data usage a little more clearly. as we see most users use beyween 10-25 gigabyte regardless of their plan. what is interesting here is the the highst usage values (50-70 giga) came from Surf users who have a smaller data packege incloded in their plan."
   ]
  },
  {
   "cell_type": "code",
   "execution_count": 38,
   "metadata": {},
   "outputs": [
    {
     "name": "stdout",
     "output_type": "stream",
     "text": [
      "Surf internet data\n",
      "count    1573.000000\n",
      "mean       16.566434\n",
      "std         8.026448\n",
      "min         0.000000\n",
      "25%        12.000000\n",
      "50%        17.000000\n",
      "75%        21.000000\n",
      "max        71.000000\n",
      "Name: total_gb, dtype: float64\n",
      "Surf internet data variance: 64.42385985515756\n",
      "----------\n",
      "Ultimate internet data\n",
      "count    720.000000\n",
      "mean      17.220833\n",
      "std        7.864100\n",
      "min        0.000000\n",
      "25%       13.000000\n",
      "50%       17.000000\n",
      "75%       21.000000\n",
      "max       47.000000\n",
      "Name: total_gb, dtype: float64\n",
      "Ultimate internet data variance: 61.84407162726008\n"
     ]
    }
   ],
   "source": [
    "print('Surf internet data') \n",
    "print(surf_group['total_gb'].describe())\n",
    "print('Surf internet data variance:',surf_group['total_gb'].var())\n",
    "print('-'*10)\n",
    "print('Ultimate internet data')\n",
    "print(ultimate_group['total_gb'].describe())\n",
    "print('Ultimate internet data variance:',ultimate_group['total_gb'].var())"
   ]
  },
  {
   "cell_type": "markdown",
   "metadata": {},
   "source": [
    "Also here we can see that both plans' web data usage mean are similar(16.5 giga for Surf, 17.2 giga for Ultimate). Also the standart diviation is similar(8 giga for Surf, 7.8 giga for Ultimate), Surf internet data variance: 64.42, Ultimate internet data variance: 61.84"
   ]
  },
  {
   "cell_type": "markdown",
   "metadata": {},
   "source": [
    "#### Messages"
   ]
  },
  {
   "cell_type": "code",
   "execution_count": 39,
   "metadata": {},
   "outputs": [
    {
     "data": {
      "image/png": "[encoded data removed]",
      "text/plain": [
       "<Figure size 432x288 with 1 Axes>"
      ]
     },
     "metadata": {
      "needs_background": "light"
     },
     "output_type": "display_data"
    }
   ],
   "source": [
    "p4 = sns.histplot(data=megaline_total,x='month',y='total_sms',hue='plan');\n",
    "plt.title('Distribution of messages by month (both plans)');"
   ]
  },
  {
   "cell_type": "code",
   "execution_count": 40,
   "metadata": {},
   "outputs": [
    {
     "data": {
      "image/png": "[encoded data removed]",
      "text/plain": [
       "<Figure size 432x288 with 1 Axes>"
      ]
     },
     "metadata": {
      "needs_background": "light"
     },
     "output_type": "display_data"
    }
   ],
   "source": [
    "sns.histplot(data=megaline_total,x='total_sms',hue='plan',multiple=\"dodge\");\n",
    "plt.title('Distribution of messages (both plans)');"
   ]
  },
  {
   "cell_type": "markdown",
   "metadata": {},
   "source": [
    "As for the other parameters the dist. of sms is similar for both plans"
   ]
  },
  {
   "cell_type": "code",
   "execution_count": 41,
   "metadata": {},
   "outputs": [
    {
     "data": {
      "image/png": "[encoded data removed]",
      "text/plain": [
       "<Figure size 1152x360 with 2 Axes>"
      ]
     },
     "metadata": {
      "needs_background": "light"
     },
     "output_type": "display_data"
    }
   ],
   "source": [
    "fig, axs = plt.subplots(nrows=1, ncols=2, figsize=(16, 5))\n",
    "\n",
    "\n",
    "\n",
    "axs[0].hist(x = surf_group['total_sms'] )\n",
    "axs[0].grid()\n",
    "axs[0].set_title('The distribution of SMS Surf plan ')\n",
    "axs[0].set_xlabel('Messages')\n",
    "axs[0].set_ylabel('No. of users')\n",
    "\n",
    "axs[1].hist(x = ultimate_group['total_sms'])\n",
    "axs[1].grid()\n",
    "axs[1].set_title('The distribution of SMS Ultimate plan')\n",
    "axs[1].set_xlabel('Messages')\n",
    "axs[1].set_ylabel('No. of users')\n",
    "\n",
    "plt.show()"
   ]
  },
  {
   "cell_type": "markdown",
   "metadata": {},
   "source": [
    "Here we can see that for both plans most users send between 0-50 messages(thanks Whatsapp ;). Again the highest values come from Surf users."
   ]
  },
  {
   "cell_type": "code",
   "execution_count": 42,
   "metadata": {
    "scrolled": true
   },
   "outputs": [
    {
     "name": "stdout",
     "output_type": "stream",
     "text": [
      "Surf Messages\n",
      "count    1573.000000\n",
      "mean       31.159568\n",
      "std        33.566717\n",
      "min         0.000000\n",
      "25%         3.000000\n",
      "50%        24.000000\n",
      "75%        47.000000\n",
      "max       266.000000\n",
      "Name: total_sms, dtype: float64\n",
      "Surf Messages variance: 1126.7245219504068\n",
      "----------\n",
      "Ultimate Messages\n",
      "count    720.000000\n",
      "mean      37.551389\n",
      "std       34.767179\n",
      "min        0.000000\n",
      "25%        7.000000\n",
      "50%       30.000000\n",
      "75%       61.000000\n",
      "max      166.000000\n",
      "Name: total_sms, dtype: float64\n",
      "Ultimate Messages variance: 1208.7567435481378\n"
     ]
    }
   ],
   "source": [
    "print('Surf Messages') \n",
    "print(surf_group['total_sms'].describe())\n",
    "print('Surf Messages variance:',surf_group['total_sms'].var())\n",
    "print('-'*10)\n",
    "print('Ultimate Messages')\n",
    "print(ultimate_group['total_sms'].describe())\n",
    "print('Ultimate Messages variance:',ultimate_group['total_sms'].var())"
   ]
  },
  {
   "cell_type": "markdown",
   "metadata": {},
   "source": [
    "Here we see the mean value for messages 31 for Surf and 37 for Ultimate, and the standart diviation 33.5 for Surf and 34.7 for Ultimate, Ultimate Messages variance: 1208.75, Surf Messages variance: 1126.72"
   ]
  },
  {
   "cell_type": "markdown",
   "metadata": {},
   "source": [
    "#### Monthly revenue"
   ]
  },
  {
   "cell_type": "code",
   "execution_count": 43,
   "metadata": {},
   "outputs": [
    {
     "data": {
      "image/png": "[encoded data removed]",
      "text/plain": [
       "<Figure size 432x288 with 1 Axes>"
      ]
     },
     "metadata": {
      "needs_background": "light"
     },
     "output_type": "display_data"
    }
   ],
   "source": [
    "sns.histplot(data=megaline_total,x='month_rev',hue='plan');\n",
    "plt.title('Distribution of monthly revenue (both plans)');"
   ]
  },
  {
   "cell_type": "code",
   "execution_count": 44,
   "metadata": {},
   "outputs": [
    {
     "data": {
      "image/png": "[encoded data removed]",
      "text/plain": [
       "<Figure size 1152x360 with 2 Axes>"
      ]
     },
     "metadata": {
      "needs_background": "light"
     },
     "output_type": "display_data"
    }
   ],
   "source": [
    "fig, axs = plt.subplots(nrows=1, ncols=2, figsize=(16, 5))\n",
    "\n",
    "\n",
    "\n",
    "axs[0].hist(x = surf_group['month_rev'] )\n",
    "axs[0].grid()\n",
    "axs[0].set_title('The distribution of Monthly revenue from Surf plan ')\n",
    "axs[0].set_xlabel('Revenue')\n",
    "axs[0].set_ylabel('No. of users')\n",
    "\n",
    "axs[1].hist(x = ultimate_group['month_rev'])\n",
    "axs[1].grid()\n",
    "axs[1].set_title('The distribution of Monthly revenue from Ultimate plan')\n",
    "axs[1].set_xlabel('Revenue')\n",
    "axs[1].set_ylabel('No. of users')\n",
    "\n",
    "plt.show()"
   ]
  },
  {
   "cell_type": "markdown",
   "metadata": {},
   "source": [
    "Here we the dist. of monthly revenue for each plan. what is clear is that only a small no. of Ultimate users exceed their fixed monthly rate, whereas more than half of Surf exceed theirs."
   ]
  },
  {
   "cell_type": "code",
   "execution_count": 45,
   "metadata": {
    "scrolled": true
   },
   "outputs": [
    {
     "name": "stdout",
     "output_type": "stream",
     "text": [
      "Surf Monthly Rev.\n",
      "count    1579.000000\n",
      "mean       60.513730\n",
      "std        56.251374\n",
      "min        20.000000\n",
      "25%        20.000000\n",
      "50%        40.000000\n",
      "75%        80.315000\n",
      "max       600.370000\n",
      "Name: month_rev, dtype: float64\n",
      "Surf Monthly Rev. variance: 3164.217033161641\n",
      "----------\n",
      "Ultimate Monthly Rev.\n",
      "count    724.000000\n",
      "mean      72.465470\n",
      "std       12.018205\n",
      "min       70.000000\n",
      "25%       70.000000\n",
      "50%       70.000000\n",
      "75%       70.000000\n",
      "max      189.000000\n",
      "Name: month_rev, dtype: float64\n",
      "Ultimate Monthly Rev. variance: 144.43725690225654\n"
     ]
    }
   ],
   "source": [
    "print('Surf Monthly Rev.') \n",
    "print(surf_group['month_rev'].describe())\n",
    "print('Surf Monthly Rev. variance:',surf_group['month_rev'].var())\n",
    "print('-'*10)\n",
    "print('Ultimate Monthly Rev.')\n",
    "print(ultimate_group['month_rev'].describe())\n",
    "print('Ultimate Monthly Rev. variance:',ultimate_group['month_rev'].var())"
   ]
  },
  {
   "cell_type": "markdown",
   "metadata": {},
   "source": [
    "Here we can see the mean mothly charge for Surf 60 and for Ultimate 72 and the std for Surf 56 and for Ultimate 12.Surf Monthly Rev. variance: 3164.21, Ultimate Monthly Rev. variance: 144.43  \n",
    "\n",
    "The large difference in the variance and std's suggests that a lot of Surf users exceed their monthly plan and very few Ultimate users do the same"
   ]
  },
  {
   "cell_type": "markdown",
   "metadata": {},
   "source": [
    "# Step 4: Test the hypotheses\n",
    "\n",
    "we are going to find out if:\n",
    "\n",
    "The average revenue from users of Ultimate and Surf calling plans differs.\n",
    "\n",
    "The average revenue from users in NY-NJ area is different from that of the users from other regions."
   ]
  },
  {
   "cell_type": "markdown",
   "metadata": {},
   "source": [
    "### First hypotheses\n",
    "\n",
    "H0: The average revenue from both plans is the same. (h0 allways assumes equality)\n",
    "\n",
    "H1: The average revenue from both plans is NOT the same. (h1 can only reject h0, and not prove the opposite)"
   ]
  },
  {
   "cell_type": "code",
   "execution_count": 46,
   "metadata": {},
   "outputs": [
    {
     "name": "stdout",
     "output_type": "stream",
     "text": [
      "p-value:  1.4407858225808047e-15\n",
      "We reject the null hypothesis\n"
     ]
    }
   ],
   "source": [
    "sample_1 = ultimate_group['month_rev']\n",
    "\n",
    "sample_2 = surf_group['month_rev']\n",
    "\n",
    "\n",
    "\n",
    "alpha = 0.05  # critical statistical significance level\n",
    "# if the p-value is less than alpha, we reject the hypothesis\n",
    "\n",
    "results = st.ttest_ind(sample_1, sample_2, equal_var = False)\n",
    "\n",
    "print('p-value: ', results.pvalue)\n",
    "\n",
    "if results.pvalue < alpha:\n",
    "    print(\"We reject the null hypothesis\")\n",
    "else:\n",
    "    print(\"We can't reject the null hypothesis\")"
   ]
  },
  {
   "cell_type": "markdown",
   "metadata": {},
   "source": [
    "According to this test the differnce in the plans' revenue mean is significant, meaning the average monthly revenue from each plan is different, with 95% certinty\n",
    "\n",
    "I chose equal_var = False, because these two populations (the two plans) appeal to very different people and I see no reason for them to have the same variance"
   ]
  },
  {
   "cell_type": "markdown",
   "metadata": {},
   "source": [
    "### Second hypotheses\n",
    "\n",
    "H0: The average revenue from NY-NJ area is the same as all regions. (h0 allways assumes equality)\n",
    "\n",
    "H1: The average revenue from NY-NJ area is NOT the same as all regions. (h1 can only reject h0, and not prove the opposite)"
   ]
  },
  {
   "cell_type": "code",
   "execution_count": 47,
   "metadata": {},
   "outputs": [],
   "source": [
    "ny_nj = megaline_total[megaline_total['city'].str.contains('NY-NJ')]\n",
    "other = megaline_total[~megaline_total['city'].str.contains('NY-NJ')]"
   ]
  },
  {
   "cell_type": "code",
   "execution_count": 48,
   "metadata": {},
   "outputs": [
    {
     "name": "stdout",
     "output_type": "stream",
     "text": [
      "p-value:  0.05454436789855989\n",
      "We can't reject the null hypothesis\n"
     ]
    }
   ],
   "source": [
    "sample_1 = ny_nj['month_rev']\n",
    "\n",
    "sample_2 = other['month_rev']\n",
    "\n",
    "\n",
    "\n",
    "alpha = 0.05  # critical statistical significance level\n",
    "# if the p-value is less than alpha, we reject the hypothesis\n",
    "\n",
    "results = st.ttest_ind(sample_1, sample_2,equal_var = True)\n",
    "\n",
    "print('p-value: ', results.pvalue)\n",
    "\n",
    "if results.pvalue < alpha:\n",
    "    print(\"We reject the null hypothesis\")\n",
    "else:\n",
    "    print(\"We can't reject the null hypothesis\")"
   ]
  },
  {
   "cell_type": "markdown",
   "metadata": {},
   "source": [
    "According to this test the differnce in the average revenue from NY-NJ area is NOT significant, meaning the average monthly revenue from NY-NJ area is equal to average monthly from other regions, with 95% certinty. \n",
    "\n",
    "I chose equal_var = True, because these two populations (NY NJ area and other regions) should have the same differences within them. there are all kinds of people living in every region."
   ]
  },
  {
   "cell_type": "markdown",
   "metadata": {},
   "source": [
    "# Conclusions\n",
    "\n",
    "#### Data preprocessing\n",
    "\n",
    "- The data recieved was devided into 4 tables, First we check the dates for our data and create a month column for each data set.\n",
    "\n",
    "- Then we create one table with all of the web, call and sms data summed up for each month and grouped by user.\n",
    "\n",
    "- The data had no null's or duplicates\n",
    "\n",
    "#### EDA\n",
    "\n",
    "- Our client base has grown with each month in the year 2018, this means that analyzing and comparing the data month to month will not be usefull since we have more clients every month and their usage of calls SMS and internet data rises constantly as well as Megaline's revenue. \n",
    "\n",
    "- We see [here](#Step-3.-Analyze-the-data) that despite what is written in the previous article usage of calls SMS and internet data has risen in a fairely constant way all through 2018, and that usage for both plans is similar. we have in our data about twice as much Surf plan users(339) than Ultimate(161) and the usage of calls SMS and internet data for Surf per month is almost double that of Ultimate.\n",
    "\n",
    "- Call minutes is simillar for both plans most clients used between 200 and 600 minutes also call minutes mean are similar(428 for Surf, 430 for Ultimate).\n",
    "\n",
    "- Internet data is simillar for both plans most users use beyween 10-25 gigabyte regardless of their plan.data usage mean are similar(16.5 giga for Surf, 17.2 giga for Ultimate), what is interesting here is the the highst usage values (50-70 giga) came from Surf users who have a smaller data packege incloded in their plan.\n",
    "\n",
    "- Messages most users send between 0-50 messages,mean value for messages 31 for Surf and 37 for Ultimate.\n",
    "\n",
    "- Monthly revenue the mean mothly charge for Surf is 60 dollars and for Ultimate is 72 dollars, the std for Surf 56 and for Ultimate 12. The large difference in the std's suggests that a lot of Surf users exceed their monthly plan and very few Ultimate users do the same.\n",
    "\n",
    "#### Hypotheses testing\n",
    "\n",
    "- The hypotheses that the average monthly revenue from the Surf and Ultimate call plans is the same was regected withe 95% certinty. \n",
    "\n",
    "- The hypotheses that the average monthly revenue from the NY-NJ area is the same as all other regions was NOT rejected also with 95% certinty\n",
    "\n"
   ]
  },
  {
   "cell_type": "code",
   "execution_count": null,
   "metadata": {},
   "outputs": [],
   "source": []
  }
 ],
 "metadata": {
  "ExecuteTimeLog": [
   {
    "duration": 636,
    "start_time": "2022-02-07T15:23:26.749Z"
   },
   {
    "duration": 906,
    "start_time": "2022-02-07T15:27:34.261Z"
   },
   {
    "duration": 3,
    "start_time": "2022-02-07T15:31:45.750Z"
   },
   {
    "duration": 19,
    "start_time": "2022-02-07T15:32:12.310Z"
   },
   {
    "duration": 2,
    "start_time": "2022-02-07T15:32:42.051Z"
   },
   {
    "duration": 16,
    "start_time": "2022-02-07T15:32:44.200Z"
   },
   {
    "duration": 3,
    "start_time": "2022-02-07T15:33:27.869Z"
   },
   {
    "duration": 18,
    "start_time": "2022-02-07T15:33:29.620Z"
   },
   {
    "duration": 3,
    "start_time": "2022-02-07T15:38:11.358Z"
   },
   {
    "duration": 716,
    "start_time": "2022-02-07T15:38:16.305Z"
   },
   {
    "duration": 3,
    "start_time": "2022-02-07T15:38:51.936Z"
   },
   {
    "duration": 65,
    "start_time": "2022-02-07T15:38:52.796Z"
   },
   {
    "duration": 3,
    "start_time": "2022-02-07T15:40:09.916Z"
   },
   {
    "duration": 3349,
    "start_time": "2022-02-07T15:40:12.276Z"
   },
   {
    "duration": 3,
    "start_time": "2022-02-07T15:40:28.466Z"
   },
   {
    "duration": 57,
    "start_time": "2022-02-07T15:40:29.826Z"
   },
   {
    "duration": 57,
    "start_time": "2022-02-07T15:40:53.905Z"
   },
   {
    "duration": 3,
    "start_time": "2022-02-07T15:42:31.386Z"
   },
   {
    "duration": 762,
    "start_time": "2022-02-07T15:42:31.914Z"
   },
   {
    "duration": 2,
    "start_time": "2022-02-07T15:42:54.778Z"
   },
   {
    "duration": 60,
    "start_time": "2022-02-07T15:42:55.310Z"
   },
   {
    "duration": 2,
    "start_time": "2022-02-07T15:43:17.906Z"
   },
   {
    "duration": 57,
    "start_time": "2022-02-07T15:43:18.464Z"
   },
   {
    "duration": 278,
    "start_time": "2022-02-07T15:44:14.744Z"
   },
   {
    "duration": 4,
    "start_time": "2022-02-07T15:44:24.521Z"
   },
   {
    "duration": 58,
    "start_time": "2022-02-07T15:44:25.583Z"
   },
   {
    "duration": 4,
    "start_time": "2022-02-07T15:44:42.332Z"
   },
   {
    "duration": 63,
    "start_time": "2022-02-07T15:44:43.374Z"
   },
   {
    "duration": 5,
    "start_time": "2022-02-07T15:47:18.073Z"
   },
   {
    "duration": 188,
    "start_time": "2022-02-07T15:47:19.014Z"
   },
   {
    "duration": 3,
    "start_time": "2022-02-07T15:47:37.505Z"
   },
   {
    "duration": 197,
    "start_time": "2022-02-07T15:47:38.193Z"
   },
   {
    "duration": 3,
    "start_time": "2022-02-07T15:48:30.314Z"
   },
   {
    "duration": 75,
    "start_time": "2022-02-07T15:48:30.982Z"
   },
   {
    "duration": 4,
    "start_time": "2022-02-07T15:49:59.381Z"
   },
   {
    "duration": 80,
    "start_time": "2022-02-07T15:50:00.094Z"
   },
   {
    "duration": 3,
    "start_time": "2022-02-07T15:50:14.263Z"
   },
   {
    "duration": 90,
    "start_time": "2022-02-07T15:50:14.924Z"
   },
   {
    "duration": 3,
    "start_time": "2022-02-07T15:51:22.394Z"
   },
   {
    "duration": 78,
    "start_time": "2022-02-07T15:51:22.934Z"
   },
   {
    "duration": 1913,
    "start_time": "2022-02-07T15:53:53.740Z"
   },
   {
    "duration": 3,
    "start_time": "2022-02-07T15:55:02.529Z"
   },
   {
    "duration": 226,
    "start_time": "2022-02-07T15:55:03.059Z"
   },
   {
    "duration": 23,
    "start_time": "2022-02-07T17:13:26.834Z"
   },
   {
    "duration": 12,
    "start_time": "2022-02-07T17:13:40.386Z"
   },
   {
    "duration": 336,
    "start_time": "2022-02-07T17:13:50.076Z"
   },
   {
    "duration": 10,
    "start_time": "2022-02-07T17:14:00.597Z"
   },
   {
    "duration": 340,
    "start_time": "2022-02-07T17:19:31.266Z"
   },
   {
    "duration": 309,
    "start_time": "2022-02-07T17:19:51.876Z"
   },
   {
    "duration": 21,
    "start_time": "2022-02-07T17:20:00.675Z"
   },
   {
    "duration": 31,
    "start_time": "2022-02-07T17:20:17.425Z"
   },
   {
    "duration": 342,
    "start_time": "2022-02-07T17:21:11.244Z"
   },
   {
    "duration": 45,
    "start_time": "2022-02-07T17:21:21.195Z"
   },
   {
    "duration": 40,
    "start_time": "2022-02-07T17:22:01.756Z"
   },
   {
    "duration": 21,
    "start_time": "2022-02-07T17:23:03.156Z"
   },
   {
    "duration": 21,
    "start_time": "2022-02-07T17:23:18.264Z"
   },
   {
    "duration": 16,
    "start_time": "2022-02-07T17:24:05.885Z"
   },
   {
    "duration": 323,
    "start_time": "2022-02-07T17:24:13.395Z"
   },
   {
    "duration": 16,
    "start_time": "2022-02-07T17:24:41.545Z"
   },
   {
    "duration": 17,
    "start_time": "2022-02-07T17:24:51.283Z"
   },
   {
    "duration": 20,
    "start_time": "2022-02-07T17:25:03.003Z"
   },
   {
    "duration": 331,
    "start_time": "2022-02-07T17:27:43.414Z"
   },
   {
    "duration": 318,
    "start_time": "2022-02-07T17:28:09.216Z"
   },
   {
    "duration": 20,
    "start_time": "2022-02-07T17:28:18.434Z"
   },
   {
    "duration": 330,
    "start_time": "2022-02-07T17:28:27.563Z"
   },
   {
    "duration": 15,
    "start_time": "2022-02-07T17:29:41.309Z"
   },
   {
    "duration": 26,
    "start_time": "2022-02-07T17:30:13.045Z"
   },
   {
    "duration": 2,
    "start_time": "2022-02-07T17:37:10.544Z"
   },
   {
    "duration": 275,
    "start_time": "2022-02-07T17:37:11.984Z"
   },
   {
    "duration": 3,
    "start_time": "2022-02-07T17:37:12.464Z"
   },
   {
    "duration": 199,
    "start_time": "2022-02-07T17:37:13.004Z"
   },
   {
    "duration": 35,
    "start_time": "2022-02-07T17:37:14.863Z"
   },
   {
    "duration": 23,
    "start_time": "2022-02-07T17:37:16.884Z"
   },
   {
    "duration": 23,
    "start_time": "2022-02-07T17:39:18.073Z"
   },
   {
    "duration": 29,
    "start_time": "2022-02-07T17:39:27.643Z"
   },
   {
    "duration": 32,
    "start_time": "2022-02-07T17:39:30.954Z"
   },
   {
    "duration": 27,
    "start_time": "2022-02-07T17:40:08.474Z"
   },
   {
    "duration": 20,
    "start_time": "2022-02-07T17:40:19.073Z"
   },
   {
    "duration": 20,
    "start_time": "2022-02-07T17:40:30.193Z"
   },
   {
    "duration": 641,
    "start_time": "2022-02-07T17:40:49.082Z"
   },
   {
    "duration": 277,
    "start_time": "2022-02-07T17:40:49.725Z"
   },
   {
    "duration": 4,
    "start_time": "2022-02-07T17:40:50.004Z"
   },
   {
    "duration": 240,
    "start_time": "2022-02-07T17:40:50.009Z"
   },
   {
    "duration": 42,
    "start_time": "2022-02-07T17:40:50.251Z"
   },
   {
    "duration": 40,
    "start_time": "2022-02-07T17:40:50.294Z"
   },
   {
    "duration": 13,
    "start_time": "2022-02-07T17:40:50.335Z"
   },
   {
    "duration": 26,
    "start_time": "2022-02-07T17:41:17.312Z"
   },
   {
    "duration": 18,
    "start_time": "2022-02-07T17:42:13.963Z"
   },
   {
    "duration": 26,
    "start_time": "2022-02-07T17:42:33.082Z"
   },
   {
    "duration": 27,
    "start_time": "2022-02-07T17:42:41.062Z"
   },
   {
    "duration": 27,
    "start_time": "2022-02-07T17:42:54.283Z"
   },
   {
    "duration": 16,
    "start_time": "2022-02-07T17:44:14.542Z"
   },
   {
    "duration": 21,
    "start_time": "2022-02-07T17:44:34.695Z"
   },
   {
    "duration": 761,
    "start_time": "2022-02-07T17:44:43.623Z"
   },
   {
    "duration": 353,
    "start_time": "2022-02-07T17:44:44.386Z"
   },
   {
    "duration": 5,
    "start_time": "2022-02-07T17:44:44.742Z"
   },
   {
    "duration": 278,
    "start_time": "2022-02-07T17:44:44.749Z"
   },
   {
    "duration": 46,
    "start_time": "2022-02-07T17:44:45.028Z"
   },
   {
    "duration": 25,
    "start_time": "2022-02-07T17:44:45.075Z"
   },
   {
    "duration": 31,
    "start_time": "2022-02-07T17:44:45.101Z"
   },
   {
    "duration": 29,
    "start_time": "2022-02-07T17:51:06.245Z"
   },
   {
    "duration": 11,
    "start_time": "2022-02-07T17:54:16.224Z"
   },
   {
    "duration": 13,
    "start_time": "2022-02-07T17:54:48.134Z"
   },
   {
    "duration": 30,
    "start_time": "2022-02-07T17:56:53.774Z"
   },
   {
    "duration": 26,
    "start_time": "2022-02-07T17:57:10.304Z"
   },
   {
    "duration": 18,
    "start_time": "2022-02-07T17:57:35.974Z"
   },
   {
    "duration": 20,
    "start_time": "2022-02-07T17:59:48.629Z"
   },
   {
    "duration": 11,
    "start_time": "2022-02-07T18:02:23.322Z"
   },
   {
    "duration": 12,
    "start_time": "2022-02-07T18:02:24.763Z"
   },
   {
    "duration": 17,
    "start_time": "2022-02-07T18:02:25.463Z"
   },
   {
    "duration": 8,
    "start_time": "2022-02-07T18:03:57.577Z"
   },
   {
    "duration": 23,
    "start_time": "2022-02-07T18:06:25.306Z"
   },
   {
    "duration": 18,
    "start_time": "2022-02-07T18:07:59.965Z"
   },
   {
    "duration": 10,
    "start_time": "2022-02-07T18:11:47.233Z"
   },
   {
    "duration": 3,
    "start_time": "2022-02-07T18:19:40.171Z"
   },
   {
    "duration": 4,
    "start_time": "2022-02-07T18:21:04.281Z"
   },
   {
    "duration": 23,
    "start_time": "2022-02-07T18:38:04.465Z"
   },
   {
    "duration": 441,
    "start_time": "2022-02-07T19:05:32.340Z"
   },
   {
    "duration": 362,
    "start_time": "2022-02-07T19:07:31.672Z"
   },
   {
    "duration": 314,
    "start_time": "2022-02-07T19:10:23.912Z"
   },
   {
    "duration": 324,
    "start_time": "2022-02-07T19:10:55.722Z"
   },
   {
    "duration": 579,
    "start_time": "2022-02-07T19:13:03.325Z"
   },
   {
    "duration": 287,
    "start_time": "2022-02-07T19:13:03.906Z"
   },
   {
    "duration": 4,
    "start_time": "2022-02-07T19:13:04.195Z"
   },
   {
    "duration": 219,
    "start_time": "2022-02-07T19:13:04.201Z"
   },
   {
    "duration": 42,
    "start_time": "2022-02-07T19:13:04.427Z"
   },
   {
    "duration": 24,
    "start_time": "2022-02-07T19:13:04.470Z"
   },
   {
    "duration": 33,
    "start_time": "2022-02-07T19:13:04.495Z"
   },
   {
    "duration": 10,
    "start_time": "2022-02-07T19:13:04.529Z"
   },
   {
    "duration": 27,
    "start_time": "2022-02-07T19:13:04.541Z"
   },
   {
    "duration": 18,
    "start_time": "2022-02-07T19:13:04.570Z"
   },
   {
    "duration": 7,
    "start_time": "2022-02-07T19:13:04.589Z"
   },
   {
    "duration": 47,
    "start_time": "2022-02-07T19:13:04.598Z"
   },
   {
    "duration": 15,
    "start_time": "2022-02-07T19:13:04.646Z"
   },
   {
    "duration": 10,
    "start_time": "2022-02-07T19:13:04.663Z"
   },
   {
    "duration": 3,
    "start_time": "2022-02-07T19:13:04.675Z"
   },
   {
    "duration": 63,
    "start_time": "2022-02-07T19:13:04.680Z"
   },
   {
    "duration": 400,
    "start_time": "2022-02-07T19:13:04.745Z"
   },
   {
    "duration": 369,
    "start_time": "2022-02-08T15:05:45.650Z"
   },
   {
    "duration": 805,
    "start_time": "2022-02-08T15:06:02.305Z"
   },
   {
    "duration": 389,
    "start_time": "2022-02-08T15:06:03.113Z"
   },
   {
    "duration": 5,
    "start_time": "2022-02-08T15:06:03.505Z"
   },
   {
    "duration": 382,
    "start_time": "2022-02-08T15:06:03.513Z"
   },
   {
    "duration": 84,
    "start_time": "2022-02-08T15:06:03.897Z"
   },
   {
    "duration": 49,
    "start_time": "2022-02-08T15:06:03.984Z"
   },
   {
    "duration": 16,
    "start_time": "2022-02-08T15:06:04.048Z"
   },
   {
    "duration": 16,
    "start_time": "2022-02-08T15:06:04.070Z"
   },
   {
    "duration": 77,
    "start_time": "2022-02-08T15:06:04.089Z"
   },
   {
    "duration": 30,
    "start_time": "2022-02-08T15:06:04.169Z"
   },
   {
    "duration": 12,
    "start_time": "2022-02-08T15:06:04.201Z"
   },
   {
    "duration": 61,
    "start_time": "2022-02-08T15:06:04.215Z"
   },
   {
    "duration": 23,
    "start_time": "2022-02-08T15:06:04.279Z"
   },
   {
    "duration": 11,
    "start_time": "2022-02-08T15:06:04.305Z"
   },
   {
    "duration": 34,
    "start_time": "2022-02-08T15:06:04.319Z"
   },
   {
    "duration": 49,
    "start_time": "2022-02-08T15:06:04.355Z"
   },
   {
    "duration": 359,
    "start_time": "2022-02-08T15:06:04.407Z"
   },
   {
    "duration": -5134,
    "start_time": "2022-02-08T15:06:09.903Z"
   },
   {
    "duration": 4,
    "start_time": "2022-02-08T15:06:21.798Z"
   },
   {
    "duration": 282,
    "start_time": "2022-02-08T15:06:43.273Z"
   },
   {
    "duration": 291,
    "start_time": "2022-02-08T15:07:55.314Z"
   },
   {
    "duration": 300,
    "start_time": "2022-02-08T15:08:36.852Z"
   },
   {
    "duration": 307,
    "start_time": "2022-02-08T15:10:37.030Z"
   },
   {
    "duration": 364,
    "start_time": "2022-02-08T15:12:28.946Z"
   },
   {
    "duration": 16,
    "start_time": "2022-02-08T15:13:35.792Z"
   },
   {
    "duration": 308,
    "start_time": "2022-02-08T15:15:12.082Z"
   },
   {
    "duration": 313,
    "start_time": "2022-02-08T15:15:50.524Z"
   },
   {
    "duration": 22,
    "start_time": "2022-02-08T15:16:26.918Z"
   },
   {
    "duration": 15,
    "start_time": "2022-02-08T15:16:46.428Z"
   },
   {
    "duration": 17,
    "start_time": "2022-02-08T15:17:03.802Z"
   },
   {
    "duration": 6,
    "start_time": "2022-02-08T15:17:07.929Z"
   },
   {
    "duration": 33,
    "start_time": "2022-02-08T15:17:12.721Z"
   },
   {
    "duration": 14,
    "start_time": "2022-02-08T15:17:22.539Z"
   },
   {
    "duration": 286,
    "start_time": "2022-02-08T15:17:24.449Z"
   },
   {
    "duration": 27,
    "start_time": "2022-02-08T15:17:45.184Z"
   },
   {
    "duration": 26,
    "start_time": "2022-02-08T15:18:25.300Z"
   },
   {
    "duration": 14,
    "start_time": "2022-02-08T15:18:37.812Z"
   },
   {
    "duration": 301,
    "start_time": "2022-02-08T15:18:45.171Z"
   },
   {
    "duration": 22,
    "start_time": "2022-02-08T15:22:15.888Z"
   },
   {
    "duration": 19,
    "start_time": "2022-02-08T15:23:23.531Z"
   },
   {
    "duration": 17,
    "start_time": "2022-02-08T15:23:35.784Z"
   },
   {
    "duration": 17,
    "start_time": "2022-02-08T15:24:19.547Z"
   },
   {
    "duration": 9,
    "start_time": "2022-02-08T15:27:24.275Z"
   },
   {
    "duration": 5,
    "start_time": "2022-02-08T15:28:09.391Z"
   },
   {
    "duration": 91,
    "start_time": "2022-02-08T15:33:55.128Z"
   },
   {
    "duration": 19,
    "start_time": "2022-02-08T15:34:11.670Z"
   },
   {
    "duration": -5236,
    "start_time": "2022-02-08T15:35:01.745Z"
   },
   {
    "duration": 723,
    "start_time": "2022-02-08T15:35:07.363Z"
   },
   {
    "duration": 327,
    "start_time": "2022-02-08T15:35:08.089Z"
   },
   {
    "duration": 5,
    "start_time": "2022-02-08T15:35:08.419Z"
   },
   {
    "duration": 372,
    "start_time": "2022-02-08T15:35:08.427Z"
   },
   {
    "duration": 90,
    "start_time": "2022-02-08T15:35:08.802Z"
   },
   {
    "duration": 58,
    "start_time": "2022-02-08T15:35:08.895Z"
   },
   {
    "duration": 20,
    "start_time": "2022-02-08T15:35:08.957Z"
   },
   {
    "duration": 22,
    "start_time": "2022-02-08T15:35:08.983Z"
   },
   {
    "duration": 79,
    "start_time": "2022-02-08T15:35:09.009Z"
   },
   {
    "duration": 31,
    "start_time": "2022-02-08T15:35:09.091Z"
   },
   {
    "duration": 36,
    "start_time": "2022-02-08T15:35:09.125Z"
   },
   {
    "duration": 37,
    "start_time": "2022-02-08T15:35:09.164Z"
   },
   {
    "duration": 57,
    "start_time": "2022-02-08T15:35:09.204Z"
   },
   {
    "duration": 18,
    "start_time": "2022-02-08T15:35:09.263Z"
   },
   {
    "duration": 6,
    "start_time": "2022-02-08T15:35:09.283Z"
   },
   {
    "duration": 68,
    "start_time": "2022-02-08T15:35:09.292Z"
   },
   {
    "duration": 18,
    "start_time": "2022-02-08T15:35:09.362Z"
   },
   {
    "duration": 22,
    "start_time": "2022-02-08T15:35:09.383Z"
   },
   {
    "duration": 18,
    "start_time": "2022-02-08T15:35:33.663Z"
   },
   {
    "duration": 19,
    "start_time": "2022-02-08T15:35:36.051Z"
   },
   {
    "duration": 20,
    "start_time": "2022-02-08T15:35:59.423Z"
   },
   {
    "duration": 18,
    "start_time": "2022-02-08T15:36:36.097Z"
   },
   {
    "duration": 21,
    "start_time": "2022-02-08T15:37:02.918Z"
   },
   {
    "duration": 21,
    "start_time": "2022-02-08T15:37:28.721Z"
   },
   {
    "duration": 20,
    "start_time": "2022-02-08T15:37:45.823Z"
   },
   {
    "duration": 868,
    "start_time": "2022-02-08T15:38:58.884Z"
   },
   {
    "duration": 351,
    "start_time": "2022-02-08T15:38:59.755Z"
   },
   {
    "duration": 6,
    "start_time": "2022-02-08T15:39:00.109Z"
   },
   {
    "duration": 408,
    "start_time": "2022-02-08T15:39:00.118Z"
   },
   {
    "duration": 83,
    "start_time": "2022-02-08T15:39:00.528Z"
   },
   {
    "duration": 54,
    "start_time": "2022-02-08T15:39:00.614Z"
   },
   {
    "duration": 17,
    "start_time": "2022-02-08T15:39:00.671Z"
   },
   {
    "duration": 18,
    "start_time": "2022-02-08T15:39:00.691Z"
   },
   {
    "duration": 70,
    "start_time": "2022-02-08T15:39:00.712Z"
   },
   {
    "duration": 31,
    "start_time": "2022-02-08T15:39:00.784Z"
   },
   {
    "duration": 40,
    "start_time": "2022-02-08T15:39:00.817Z"
   },
   {
    "duration": 34,
    "start_time": "2022-02-08T15:39:00.860Z"
   },
   {
    "duration": 24,
    "start_time": "2022-02-08T15:39:00.897Z"
   },
   {
    "duration": 38,
    "start_time": "2022-02-08T15:39:00.923Z"
   },
   {
    "duration": 15,
    "start_time": "2022-02-08T15:39:00.964Z"
   },
   {
    "duration": 43,
    "start_time": "2022-02-08T15:39:00.981Z"
   },
   {
    "duration": 26,
    "start_time": "2022-02-08T15:39:01.026Z"
   },
   {
    "duration": 20,
    "start_time": "2022-02-08T15:39:01.054Z"
   },
   {
    "duration": 36,
    "start_time": "2022-02-08T15:48:40.541Z"
   },
   {
    "duration": 18,
    "start_time": "2022-02-08T15:48:46.817Z"
   },
   {
    "duration": 309,
    "start_time": "2022-02-08T15:50:57.626Z"
   },
   {
    "duration": 317,
    "start_time": "2022-02-08T15:51:26.426Z"
   },
   {
    "duration": 312,
    "start_time": "2022-02-08T15:51:49.779Z"
   },
   {
    "duration": 24,
    "start_time": "2022-02-08T15:52:09.491Z"
   },
   {
    "duration": 5,
    "start_time": "2022-02-08T15:54:39.212Z"
   },
   {
    "duration": 10,
    "start_time": "2022-02-08T15:55:16.790Z"
   },
   {
    "duration": 755,
    "start_time": "2022-02-08T15:55:38.741Z"
   },
   {
    "duration": 362,
    "start_time": "2022-02-08T15:55:52.985Z"
   },
   {
    "duration": 777,
    "start_time": "2022-02-08T15:56:53.205Z"
   },
   {
    "duration": 362,
    "start_time": "2022-02-08T15:56:53.985Z"
   },
   {
    "duration": 10,
    "start_time": "2022-02-08T15:56:54.354Z"
   },
   {
    "duration": 431,
    "start_time": "2022-02-08T15:56:54.367Z"
   },
   {
    "duration": 100,
    "start_time": "2022-02-08T15:56:54.802Z"
   },
   {
    "duration": 48,
    "start_time": "2022-02-08T15:56:54.904Z"
   },
   {
    "duration": 22,
    "start_time": "2022-02-08T15:56:54.956Z"
   },
   {
    "duration": 20,
    "start_time": "2022-02-08T15:56:54.984Z"
   },
   {
    "duration": 91,
    "start_time": "2022-02-08T15:56:55.006Z"
   },
   {
    "duration": 59,
    "start_time": "2022-02-08T15:56:55.100Z"
   },
   {
    "duration": 17,
    "start_time": "2022-02-08T15:56:55.163Z"
   },
   {
    "duration": 35,
    "start_time": "2022-02-08T15:56:55.182Z"
   },
   {
    "duration": 31,
    "start_time": "2022-02-08T15:56:55.250Z"
   },
   {
    "duration": 19,
    "start_time": "2022-02-08T15:56:55.285Z"
   },
   {
    "duration": 43,
    "start_time": "2022-02-08T15:56:55.307Z"
   },
   {
    "duration": 43,
    "start_time": "2022-02-08T15:56:55.354Z"
   },
   {
    "duration": 5,
    "start_time": "2022-02-08T15:56:55.400Z"
   },
   {
    "duration": 437,
    "start_time": "2022-02-08T15:56:55.407Z"
   },
   {
    "duration": -5127,
    "start_time": "2022-02-08T15:57:00.973Z"
   },
   {
    "duration": 42,
    "start_time": "2022-02-08T15:57:19.924Z"
   },
   {
    "duration": 295,
    "start_time": "2022-02-08T15:57:57.707Z"
   },
   {
    "duration": 416,
    "start_time": "2022-02-08T16:01:28.332Z"
   },
   {
    "duration": 30,
    "start_time": "2022-02-08T16:02:09.891Z"
   },
   {
    "duration": 328,
    "start_time": "2022-02-08T16:04:20.794Z"
   },
   {
    "duration": 383,
    "start_time": "2022-02-08T16:04:41.945Z"
   },
   {
    "duration": 656,
    "start_time": "2022-02-08T16:05:33.971Z"
   },
   {
    "duration": 620,
    "start_time": "2022-02-08T16:06:05.442Z"
   },
   {
    "duration": -5180,
    "start_time": "2022-02-08T16:06:29.304Z"
   },
   {
    "duration": 836,
    "start_time": "2022-02-08T16:06:29.937Z"
   },
   {
    "duration": 372,
    "start_time": "2022-02-08T16:06:30.776Z"
   },
   {
    "duration": 10,
    "start_time": "2022-02-08T16:06:31.153Z"
   },
   {
    "duration": 446,
    "start_time": "2022-02-08T16:06:31.167Z"
   },
   {
    "duration": 95,
    "start_time": "2022-02-08T16:06:31.616Z"
   },
   {
    "duration": 54,
    "start_time": "2022-02-08T16:06:31.715Z"
   },
   {
    "duration": 21,
    "start_time": "2022-02-08T16:06:31.773Z"
   },
   {
    "duration": 69,
    "start_time": "2022-02-08T16:06:31.797Z"
   },
   {
    "duration": 48,
    "start_time": "2022-02-08T16:06:31.869Z"
   },
   {
    "duration": 61,
    "start_time": "2022-02-08T16:06:31.919Z"
   },
   {
    "duration": 16,
    "start_time": "2022-02-08T16:06:31.983Z"
   },
   {
    "duration": 74,
    "start_time": "2022-02-08T16:06:32.001Z"
   },
   {
    "duration": 33,
    "start_time": "2022-02-08T16:06:32.078Z"
   },
   {
    "duration": 48,
    "start_time": "2022-02-08T16:06:32.115Z"
   },
   {
    "duration": 7,
    "start_time": "2022-02-08T16:06:32.166Z"
   },
   {
    "duration": 32,
    "start_time": "2022-02-08T16:06:32.176Z"
   },
   {
    "duration": 46,
    "start_time": "2022-02-08T16:06:32.211Z"
   },
   {
    "duration": 8633,
    "start_time": "2022-02-08T16:06:32.262Z"
   },
   {
    "duration": -5187,
    "start_time": "2022-02-08T16:06:46.085Z"
   },
   {
    "duration": 9539,
    "start_time": "2022-02-08T16:07:26.339Z"
   },
   {
    "duration": 32,
    "start_time": "2022-02-08T16:11:12.168Z"
   },
   {
    "duration": 34,
    "start_time": "2022-02-08T16:12:11.537Z"
   },
   {
    "duration": 40,
    "start_time": "2022-02-08T16:12:52.316Z"
   },
   {
    "duration": 868,
    "start_time": "2022-02-08T16:13:20.727Z"
   },
   {
    "duration": 373,
    "start_time": "2022-02-08T16:13:21.598Z"
   },
   {
    "duration": 5,
    "start_time": "2022-02-08T16:13:21.976Z"
   },
   {
    "duration": 432,
    "start_time": "2022-02-08T16:13:21.984Z"
   },
   {
    "duration": 91,
    "start_time": "2022-02-08T16:13:22.419Z"
   },
   {
    "duration": 64,
    "start_time": "2022-02-08T16:13:22.513Z"
   },
   {
    "duration": 17,
    "start_time": "2022-02-08T16:13:22.579Z"
   },
   {
    "duration": 20,
    "start_time": "2022-02-08T16:13:22.600Z"
   },
   {
    "duration": 50,
    "start_time": "2022-02-08T16:13:22.652Z"
   },
   {
    "duration": 63,
    "start_time": "2022-02-08T16:13:22.704Z"
   },
   {
    "duration": 15,
    "start_time": "2022-02-08T16:13:22.770Z"
   },
   {
    "duration": 65,
    "start_time": "2022-02-08T16:13:22.788Z"
   },
   {
    "duration": 30,
    "start_time": "2022-02-08T16:13:22.856Z"
   },
   {
    "duration": 14,
    "start_time": "2022-02-08T16:13:22.888Z"
   },
   {
    "duration": 46,
    "start_time": "2022-02-08T16:13:22.905Z"
   },
   {
    "duration": 43,
    "start_time": "2022-02-08T16:13:22.954Z"
   },
   {
    "duration": 4,
    "start_time": "2022-02-08T16:13:22.999Z"
   },
   {
    "duration": 59,
    "start_time": "2022-02-08T16:13:23.006Z"
   },
   {
    "duration": 23,
    "start_time": "2022-02-08T16:13:23.067Z"
   },
   {
    "duration": 28,
    "start_time": "2022-02-08T16:13:56.006Z"
   },
   {
    "duration": 752,
    "start_time": "2022-02-08T16:14:10.678Z"
   },
   {
    "duration": 386,
    "start_time": "2022-02-08T16:14:11.433Z"
   },
   {
    "duration": 5,
    "start_time": "2022-02-08T16:14:11.822Z"
   },
   {
    "duration": 471,
    "start_time": "2022-02-08T16:14:11.830Z"
   },
   {
    "duration": 99,
    "start_time": "2022-02-08T16:14:12.303Z"
   },
   {
    "duration": 61,
    "start_time": "2022-02-08T16:14:12.404Z"
   },
   {
    "duration": 25,
    "start_time": "2022-02-08T16:14:12.468Z"
   },
   {
    "duration": 59,
    "start_time": "2022-02-08T16:14:12.495Z"
   },
   {
    "duration": 46,
    "start_time": "2022-02-08T16:14:12.560Z"
   },
   {
    "duration": 65,
    "start_time": "2022-02-08T16:14:12.609Z"
   },
   {
    "duration": 14,
    "start_time": "2022-02-08T16:14:12.676Z"
   },
   {
    "duration": 64,
    "start_time": "2022-02-08T16:14:12.693Z"
   },
   {
    "duration": 25,
    "start_time": "2022-02-08T16:14:12.761Z"
   },
   {
    "duration": 15,
    "start_time": "2022-02-08T16:14:12.789Z"
   },
   {
    "duration": 42,
    "start_time": "2022-02-08T16:14:12.807Z"
   },
   {
    "duration": 30,
    "start_time": "2022-02-08T16:14:12.865Z"
   },
   {
    "duration": 4,
    "start_time": "2022-02-08T16:14:12.898Z"
   },
   {
    "duration": 60,
    "start_time": "2022-02-08T16:14:12.904Z"
   },
   {
    "duration": 17,
    "start_time": "2022-02-08T16:14:12.967Z"
   },
   {
    "duration": 19,
    "start_time": "2022-02-08T16:14:22.928Z"
   },
   {
    "duration": 24,
    "start_time": "2022-02-08T16:14:40.039Z"
   },
   {
    "duration": 32,
    "start_time": "2022-02-08T16:14:52.965Z"
   },
   {
    "duration": 734,
    "start_time": "2022-02-08T16:15:27.884Z"
   },
   {
    "duration": 348,
    "start_time": "2022-02-08T16:15:28.621Z"
   },
   {
    "duration": 7,
    "start_time": "2022-02-08T16:15:28.972Z"
   },
   {
    "duration": 379,
    "start_time": "2022-02-08T16:15:28.983Z"
   },
   {
    "duration": 90,
    "start_time": "2022-02-08T16:15:29.365Z"
   },
   {
    "duration": 40,
    "start_time": "2022-02-08T16:15:29.458Z"
   },
   {
    "duration": 50,
    "start_time": "2022-02-08T16:15:29.501Z"
   },
   {
    "duration": 18,
    "start_time": "2022-02-08T16:15:29.555Z"
   },
   {
    "duration": 43,
    "start_time": "2022-02-08T16:15:29.575Z"
   },
   {
    "duration": 55,
    "start_time": "2022-02-08T16:15:29.621Z"
   },
   {
    "duration": 14,
    "start_time": "2022-02-08T16:15:29.679Z"
   },
   {
    "duration": 71,
    "start_time": "2022-02-08T16:15:29.695Z"
   },
   {
    "duration": 25,
    "start_time": "2022-02-08T16:15:29.768Z"
   },
   {
    "duration": 52,
    "start_time": "2022-02-08T16:15:29.796Z"
   },
   {
    "duration": 7,
    "start_time": "2022-02-08T16:15:29.851Z"
   },
   {
    "duration": 28,
    "start_time": "2022-02-08T16:15:29.861Z"
   },
   {
    "duration": 4,
    "start_time": "2022-02-08T16:15:29.891Z"
   },
   {
    "duration": 69,
    "start_time": "2022-02-08T16:15:29.898Z"
   },
   {
    "duration": 18,
    "start_time": "2022-02-08T16:15:29.969Z"
   },
   {
    "duration": 17,
    "start_time": "2022-02-08T16:16:05.650Z"
   },
   {
    "duration": 19,
    "start_time": "2022-02-08T16:16:36.365Z"
   },
   {
    "duration": 15,
    "start_time": "2022-02-08T16:16:54.292Z"
   },
   {
    "duration": 822,
    "start_time": "2022-02-08T16:17:44.913Z"
   },
   {
    "duration": 339,
    "start_time": "2022-02-08T16:17:45.738Z"
   },
   {
    "duration": 6,
    "start_time": "2022-02-08T16:17:46.080Z"
   },
   {
    "duration": 388,
    "start_time": "2022-02-08T16:17:46.088Z"
   },
   {
    "duration": 94,
    "start_time": "2022-02-08T16:17:46.479Z"
   },
   {
    "duration": 39,
    "start_time": "2022-02-08T16:17:46.576Z"
   },
   {
    "duration": 45,
    "start_time": "2022-02-08T16:17:46.619Z"
   },
   {
    "duration": 27,
    "start_time": "2022-02-08T16:17:46.667Z"
   },
   {
    "duration": 73,
    "start_time": "2022-02-08T16:17:46.698Z"
   },
   {
    "duration": 31,
    "start_time": "2022-02-08T16:17:46.774Z"
   },
   {
    "duration": 44,
    "start_time": "2022-02-08T16:17:46.808Z"
   },
   {
    "duration": 35,
    "start_time": "2022-02-08T16:17:46.854Z"
   },
   {
    "duration": 25,
    "start_time": "2022-02-08T16:17:46.892Z"
   },
   {
    "duration": 42,
    "start_time": "2022-02-08T16:17:46.920Z"
   },
   {
    "duration": 5,
    "start_time": "2022-02-08T16:17:46.965Z"
   },
   {
    "duration": 29,
    "start_time": "2022-02-08T16:17:46.972Z"
   },
   {
    "duration": 47,
    "start_time": "2022-02-08T16:17:47.003Z"
   },
   {
    "duration": 33,
    "start_time": "2022-02-08T16:17:47.052Z"
   },
   {
    "duration": 14,
    "start_time": "2022-02-08T16:17:47.088Z"
   },
   {
    "duration": 553,
    "start_time": "2022-02-08T16:21:17.230Z"
   },
   {
    "duration": 20,
    "start_time": "2022-02-08T16:21:43.916Z"
   },
   {
    "duration": 23,
    "start_time": "2022-02-08T16:22:13.591Z"
   },
   {
    "duration": 323,
    "start_time": "2022-02-08T16:22:22.468Z"
   },
   {
    "duration": 8,
    "start_time": "2022-02-08T16:24:03.599Z"
   },
   {
    "duration": 763,
    "start_time": "2022-02-08T16:26:43.070Z"
   },
   {
    "duration": 367,
    "start_time": "2022-02-08T16:26:43.836Z"
   },
   {
    "duration": 5,
    "start_time": "2022-02-08T16:26:44.206Z"
   },
   {
    "duration": 398,
    "start_time": "2022-02-08T16:26:44.213Z"
   },
   {
    "duration": 88,
    "start_time": "2022-02-08T16:26:44.613Z"
   },
   {
    "duration": 62,
    "start_time": "2022-02-08T16:26:44.703Z"
   },
   {
    "duration": 16,
    "start_time": "2022-02-08T16:26:44.768Z"
   },
   {
    "duration": 19,
    "start_time": "2022-02-08T16:26:44.788Z"
   },
   {
    "duration": 85,
    "start_time": "2022-02-08T16:26:44.810Z"
   },
   {
    "duration": 64,
    "start_time": "2022-02-08T16:26:44.898Z"
   },
   {
    "duration": 19,
    "start_time": "2022-02-08T16:26:44.966Z"
   },
   {
    "duration": 84,
    "start_time": "2022-02-08T16:26:44.987Z"
   },
   {
    "duration": 24,
    "start_time": "2022-02-08T16:26:45.074Z"
   },
   {
    "duration": 15,
    "start_time": "2022-02-08T16:26:45.101Z"
   },
   {
    "duration": 39,
    "start_time": "2022-02-08T16:26:45.118Z"
   },
   {
    "duration": 35,
    "start_time": "2022-02-08T16:26:45.161Z"
   },
   {
    "duration": 4,
    "start_time": "2022-02-08T16:26:45.198Z"
   },
   {
    "duration": 68,
    "start_time": "2022-02-08T16:26:45.204Z"
   },
   {
    "duration": 19,
    "start_time": "2022-02-08T16:26:45.274Z"
   },
   {
    "duration": 18,
    "start_time": "2022-02-08T16:26:45.295Z"
   },
   {
    "duration": 14,
    "start_time": "2022-02-08T16:27:46.894Z"
   },
   {
    "duration": 436,
    "start_time": "2022-02-08T16:28:34.030Z"
   },
   {
    "duration": 17,
    "start_time": "2022-02-08T16:28:41.484Z"
   },
   {
    "duration": 758,
    "start_time": "2022-02-08T16:29:16.110Z"
   },
   {
    "duration": 394,
    "start_time": "2022-02-08T16:29:16.871Z"
   },
   {
    "duration": 6,
    "start_time": "2022-02-08T16:29:17.272Z"
   },
   {
    "duration": 428,
    "start_time": "2022-02-08T16:29:17.281Z"
   },
   {
    "duration": 101,
    "start_time": "2022-02-08T16:29:17.713Z"
   },
   {
    "duration": 66,
    "start_time": "2022-02-08T16:29:17.818Z"
   },
   {
    "duration": 22,
    "start_time": "2022-02-08T16:29:17.890Z"
   },
   {
    "duration": 55,
    "start_time": "2022-02-08T16:29:17.915Z"
   },
   {
    "duration": 45,
    "start_time": "2022-02-08T16:29:17.972Z"
   },
   {
    "duration": 62,
    "start_time": "2022-02-08T16:29:18.019Z"
   },
   {
    "duration": 14,
    "start_time": "2022-02-08T16:29:18.083Z"
   },
   {
    "duration": 76,
    "start_time": "2022-02-08T16:29:18.100Z"
   },
   {
    "duration": 23,
    "start_time": "2022-02-08T16:29:18.179Z"
   },
   {
    "duration": 45,
    "start_time": "2022-02-08T16:29:18.204Z"
   },
   {
    "duration": 7,
    "start_time": "2022-02-08T16:29:18.253Z"
   },
   {
    "duration": 33,
    "start_time": "2022-02-08T16:29:18.264Z"
   },
   {
    "duration": 4,
    "start_time": "2022-02-08T16:29:18.300Z"
   },
   {
    "duration": 67,
    "start_time": "2022-02-08T16:29:18.306Z"
   },
   {
    "duration": 21,
    "start_time": "2022-02-08T16:29:18.376Z"
   },
   {
    "duration": 7777,
    "start_time": "2022-02-08T16:29:18.399Z"
   },
   {
    "duration": -5179,
    "start_time": "2022-02-08T16:29:31.357Z"
   },
   {
    "duration": 18,
    "start_time": "2022-02-08T16:29:32.405Z"
   },
   {
    "duration": 23,
    "start_time": "2022-02-08T16:29:34.171Z"
   },
   {
    "duration": 7,
    "start_time": "2022-02-08T17:15:17.371Z"
   },
   {
    "duration": 119,
    "start_time": "2022-02-08T17:16:43.559Z"
   },
   {
    "duration": 19,
    "start_time": "2022-02-08T17:17:11.892Z"
   },
   {
    "duration": 9,
    "start_time": "2022-02-08T17:18:26.454Z"
   },
   {
    "duration": 116,
    "start_time": "2022-02-08T17:18:26.952Z"
   },
   {
    "duration": 19,
    "start_time": "2022-02-08T17:18:28.200Z"
   },
   {
    "duration": 8,
    "start_time": "2022-02-08T17:21:30.383Z"
   },
   {
    "duration": 111,
    "start_time": "2022-02-08T17:21:30.885Z"
   },
   {
    "duration": 18,
    "start_time": "2022-02-08T17:21:31.389Z"
   },
   {
    "duration": 18,
    "start_time": "2022-02-08T17:22:54.578Z"
   },
   {
    "duration": 28,
    "start_time": "2022-02-08T17:27:28.439Z"
   },
   {
    "duration": 18,
    "start_time": "2022-02-08T17:28:16.216Z"
   },
   {
    "duration": 19,
    "start_time": "2022-02-08T17:28:20.226Z"
   },
   {
    "duration": 17,
    "start_time": "2022-02-08T17:28:25.520Z"
   },
   {
    "duration": 19,
    "start_time": "2022-02-08T17:28:29.568Z"
   },
   {
    "duration": 18,
    "start_time": "2022-02-08T17:28:36.025Z"
   },
   {
    "duration": 17,
    "start_time": "2022-02-08T17:28:42.487Z"
   },
   {
    "duration": 8,
    "start_time": "2022-02-08T17:30:56.495Z"
   },
   {
    "duration": 135,
    "start_time": "2022-02-08T17:30:57.046Z"
   },
   {
    "duration": 20,
    "start_time": "2022-02-08T17:30:57.732Z"
   },
   {
    "duration": 41,
    "start_time": "2022-02-08T17:41:29.981Z"
   },
   {
    "duration": 21,
    "start_time": "2022-02-08T17:41:38.671Z"
   },
   {
    "duration": 21,
    "start_time": "2022-02-08T17:41:40.049Z"
   },
   {
    "duration": 21,
    "start_time": "2022-02-08T17:41:41.260Z"
   },
   {
    "duration": 8,
    "start_time": "2022-02-08T17:41:43.390Z"
   },
   {
    "duration": 131,
    "start_time": "2022-02-08T17:41:44.060Z"
   },
   {
    "duration": 20,
    "start_time": "2022-02-08T17:41:44.958Z"
   },
   {
    "duration": 360,
    "start_time": "2022-02-08T17:51:20.345Z"
   },
   {
    "duration": 15,
    "start_time": "2022-02-08T17:51:33.127Z"
   },
   {
    "duration": 25,
    "start_time": "2022-02-08T17:51:55.561Z"
   },
   {
    "duration": 58,
    "start_time": "2022-02-08T17:52:28.821Z"
   },
   {
    "duration": 27,
    "start_time": "2022-02-08T17:53:11.679Z"
   },
   {
    "duration": 5,
    "start_time": "2022-02-08T17:54:55.771Z"
   },
   {
    "duration": 387,
    "start_time": "2022-02-08T17:56:59.585Z"
   },
   {
    "duration": 321,
    "start_time": "2022-02-08T17:57:19.269Z"
   },
   {
    "duration": 501,
    "start_time": "2022-02-08T18:02:26.261Z"
   },
   {
    "duration": 311,
    "start_time": "2022-02-08T18:02:27.299Z"
   },
   {
    "duration": 10,
    "start_time": "2022-02-08T18:02:43.022Z"
   },
   {
    "duration": 21,
    "start_time": "2022-02-08T18:02:43.775Z"
   },
   {
    "duration": 24,
    "start_time": "2022-02-08T18:04:56.182Z"
   },
   {
    "duration": 13,
    "start_time": "2022-02-08T18:05:46.726Z"
   },
   {
    "duration": 14,
    "start_time": "2022-02-08T18:06:51.233Z"
   },
   {
    "duration": 837,
    "start_time": "2022-02-08T18:07:01.064Z"
   },
   {
    "duration": 395,
    "start_time": "2022-02-08T18:07:01.905Z"
   },
   {
    "duration": 6,
    "start_time": "2022-02-08T18:07:02.303Z"
   },
   {
    "duration": 451,
    "start_time": "2022-02-08T18:07:02.311Z"
   },
   {
    "duration": 102,
    "start_time": "2022-02-08T18:07:02.766Z"
   },
   {
    "duration": 41,
    "start_time": "2022-02-08T18:07:02.871Z"
   },
   {
    "duration": 55,
    "start_time": "2022-02-08T18:07:02.914Z"
   },
   {
    "duration": 23,
    "start_time": "2022-02-08T18:07:02.975Z"
   },
   {
    "duration": 86,
    "start_time": "2022-02-08T18:07:03.001Z"
   },
   {
    "duration": 33,
    "start_time": "2022-02-08T18:07:03.090Z"
   },
   {
    "duration": 21,
    "start_time": "2022-02-08T18:07:03.154Z"
   },
   {
    "duration": 34,
    "start_time": "2022-02-08T18:07:03.177Z"
   },
   {
    "duration": 57,
    "start_time": "2022-02-08T18:07:03.213Z"
   },
   {
    "duration": 15,
    "start_time": "2022-02-08T18:07:03.273Z"
   },
   {
    "duration": 8,
    "start_time": "2022-02-08T18:07:03.290Z"
   },
   {
    "duration": 81,
    "start_time": "2022-02-08T18:07:03.301Z"
   },
   {
    "duration": 3,
    "start_time": "2022-02-08T18:07:03.385Z"
   },
   {
    "duration": 65,
    "start_time": "2022-02-08T18:07:03.391Z"
   },
   {
    "duration": 25,
    "start_time": "2022-02-08T18:07:03.460Z"
   },
   {
    "duration": 16,
    "start_time": "2022-02-08T18:07:03.487Z"
   },
   {
    "duration": 61,
    "start_time": "2022-02-08T18:07:03.506Z"
   },
   {
    "duration": 9,
    "start_time": "2022-02-08T18:07:03.570Z"
   },
   {
    "duration": 173,
    "start_time": "2022-02-08T18:07:03.584Z"
   },
   {
    "duration": 29,
    "start_time": "2022-02-08T18:07:03.761Z"
   },
   {
    "duration": 11,
    "start_time": "2022-02-08T18:07:03.792Z"
   },
   {
    "duration": 61,
    "start_time": "2022-02-08T18:07:03.806Z"
   },
   {
    "duration": 16,
    "start_time": "2022-02-08T18:07:39.081Z"
   },
   {
    "duration": 16,
    "start_time": "2022-02-08T18:08:06.163Z"
   },
   {
    "duration": 19,
    "start_time": "2022-02-08T18:08:54.894Z"
   },
   {
    "duration": 12,
    "start_time": "2022-02-08T18:09:20.264Z"
   },
   {
    "duration": 24,
    "start_time": "2022-02-08T18:17:20.901Z"
   },
   {
    "duration": 30,
    "start_time": "2022-02-08T18:27:35.762Z"
   },
   {
    "duration": 11,
    "start_time": "2022-02-08T18:27:56.408Z"
   },
   {
    "duration": 563,
    "start_time": "2022-02-08T18:32:10.623Z"
   },
   {
    "duration": 319,
    "start_time": "2022-02-08T18:32:36.103Z"
   },
   {
    "duration": 306,
    "start_time": "2022-02-08T18:33:03.117Z"
   },
   {
    "duration": 307,
    "start_time": "2022-02-08T18:33:18.304Z"
   },
   {
    "duration": 355,
    "start_time": "2022-02-08T18:33:54.816Z"
   },
   {
    "duration": 303,
    "start_time": "2022-02-08T18:34:25.069Z"
   },
   {
    "duration": 379,
    "start_time": "2022-02-08T18:35:32.962Z"
   },
   {
    "duration": 9,
    "start_time": "2022-02-08T18:38:39.161Z"
   },
   {
    "duration": 11,
    "start_time": "2022-02-08T18:39:00.584Z"
   },
   {
    "duration": 15,
    "start_time": "2022-02-08T18:39:25.190Z"
   },
   {
    "duration": 18,
    "start_time": "2022-02-08T18:40:15.848Z"
   },
   {
    "duration": 20,
    "start_time": "2022-02-08T18:41:00.499Z"
   },
   {
    "duration": 749,
    "start_time": "2022-02-08T18:42:35.128Z"
   },
   {
    "duration": 1597,
    "start_time": "2022-02-08T18:42:45.916Z"
   },
   {
    "duration": 383,
    "start_time": "2022-02-08T18:42:47.516Z"
   },
   {
    "duration": 5,
    "start_time": "2022-02-08T18:42:47.903Z"
   },
   {
    "duration": 427,
    "start_time": "2022-02-08T18:42:47.912Z"
   },
   {
    "duration": 80,
    "start_time": "2022-02-08T18:42:48.342Z"
   },
   {
    "duration": 66,
    "start_time": "2022-02-08T18:42:48.424Z"
   },
   {
    "duration": 20,
    "start_time": "2022-02-08T18:42:48.494Z"
   },
   {
    "duration": 58,
    "start_time": "2022-02-08T18:42:48.518Z"
   },
   {
    "duration": 46,
    "start_time": "2022-02-08T18:42:48.580Z"
   },
   {
    "duration": 43,
    "start_time": "2022-02-08T18:42:48.648Z"
   },
   {
    "duration": 15,
    "start_time": "2022-02-08T18:42:48.693Z"
   },
   {
    "duration": 79,
    "start_time": "2022-02-08T18:42:48.710Z"
   },
   {
    "duration": 24,
    "start_time": "2022-02-08T18:42:48.792Z"
   },
   {
    "duration": 47,
    "start_time": "2022-02-08T18:42:48.818Z"
   },
   {
    "duration": 7,
    "start_time": "2022-02-08T18:42:48.873Z"
   },
   {
    "duration": 33,
    "start_time": "2022-02-08T18:42:48.882Z"
   },
   {
    "duration": 5,
    "start_time": "2022-02-08T18:42:48.953Z"
   },
   {
    "duration": 60,
    "start_time": "2022-02-08T18:42:48.961Z"
   },
   {
    "duration": 47,
    "start_time": "2022-02-08T18:42:49.024Z"
   },
   {
    "duration": 25,
    "start_time": "2022-02-08T18:42:49.074Z"
   },
   {
    "duration": 18,
    "start_time": "2022-02-08T18:42:49.101Z"
   },
   {
    "duration": 16,
    "start_time": "2022-02-08T18:42:49.161Z"
   },
   {
    "duration": 187,
    "start_time": "2022-02-08T18:42:49.183Z"
   },
   {
    "duration": 12,
    "start_time": "2022-02-08T18:42:49.373Z"
   },
   {
    "duration": 21,
    "start_time": "2022-02-08T18:42:49.388Z"
   },
   {
    "duration": 43,
    "start_time": "2022-02-08T18:42:49.411Z"
   },
   {
    "duration": 481,
    "start_time": "2022-02-08T18:42:49.457Z"
   },
   {
    "duration": 14,
    "start_time": "2022-02-08T18:43:49.086Z"
   },
   {
    "duration": 1626,
    "start_time": "2022-02-08T18:44:01.032Z"
   },
   {
    "duration": 383,
    "start_time": "2022-02-08T18:44:02.662Z"
   },
   {
    "duration": 9,
    "start_time": "2022-02-08T18:44:03.048Z"
   },
   {
    "duration": 434,
    "start_time": "2022-02-08T18:44:03.061Z"
   },
   {
    "duration": 92,
    "start_time": "2022-02-08T18:44:03.497Z"
   },
   {
    "duration": 42,
    "start_time": "2022-02-08T18:44:03.592Z"
   },
   {
    "duration": 28,
    "start_time": "2022-02-08T18:44:03.652Z"
   },
   {
    "duration": 21,
    "start_time": "2022-02-08T18:44:03.686Z"
   },
   {
    "duration": 100,
    "start_time": "2022-02-08T18:44:03.710Z"
   },
   {
    "duration": 64,
    "start_time": "2022-02-08T18:44:03.812Z"
   },
   {
    "duration": 15,
    "start_time": "2022-02-08T18:44:03.879Z"
   },
   {
    "duration": 70,
    "start_time": "2022-02-08T18:44:03.897Z"
   },
   {
    "duration": 29,
    "start_time": "2022-02-08T18:44:03.970Z"
   },
   {
    "duration": 59,
    "start_time": "2022-02-08T18:44:04.002Z"
   },
   {
    "duration": 12,
    "start_time": "2022-02-08T18:44:04.066Z"
   },
   {
    "duration": 49,
    "start_time": "2022-02-08T18:44:04.081Z"
   },
   {
    "duration": 7,
    "start_time": "2022-02-08T18:44:04.149Z"
   },
   {
    "duration": 57,
    "start_time": "2022-02-08T18:44:04.160Z"
   },
   {
    "duration": 54,
    "start_time": "2022-02-08T18:44:04.220Z"
   },
   {
    "duration": 12,
    "start_time": "2022-02-08T18:44:04.278Z"
   },
   {
    "duration": 18,
    "start_time": "2022-02-08T18:44:04.292Z"
   },
   {
    "duration": 64,
    "start_time": "2022-02-08T18:44:04.312Z"
   },
   {
    "duration": 9,
    "start_time": "2022-02-08T18:44:04.382Z"
   },
   {
    "duration": 153,
    "start_time": "2022-02-08T18:44:04.394Z"
   },
   {
    "duration": 23,
    "start_time": "2022-02-08T18:44:04.550Z"
   },
   {
    "duration": 25,
    "start_time": "2022-02-08T18:44:04.575Z"
   },
   {
    "duration": 12,
    "start_time": "2022-02-08T18:44:04.603Z"
   },
   {
    "duration": 24,
    "start_time": "2022-02-08T18:45:52.395Z"
   },
   {
    "duration": 1331,
    "start_time": "2022-02-08T18:46:35.508Z"
   },
   {
    "duration": 12,
    "start_time": "2022-02-08T18:47:32.161Z"
   },
   {
    "duration": 33,
    "start_time": "2022-02-08T18:48:48.592Z"
   },
   {
    "duration": 8,
    "start_time": "2022-02-08T18:51:16.778Z"
   },
   {
    "duration": 13,
    "start_time": "2022-02-08T19:23:25.077Z"
   },
   {
    "duration": 23,
    "start_time": "2022-02-08T19:24:37.678Z"
   },
   {
    "duration": 37,
    "start_time": "2022-02-08T19:24:58.429Z"
   },
   {
    "duration": 14,
    "start_time": "2022-02-08T19:37:32.537Z"
   },
   {
    "duration": 22,
    "start_time": "2022-02-08T19:37:59.111Z"
   },
   {
    "duration": 6,
    "start_time": "2022-02-08T19:38:32.612Z"
   },
   {
    "duration": 4,
    "start_time": "2022-02-08T19:38:37.661Z"
   },
   {
    "duration": 1488,
    "start_time": "2022-02-09T15:39:05.320Z"
   },
   {
    "duration": 346,
    "start_time": "2022-02-09T15:39:06.811Z"
   },
   {
    "duration": 6,
    "start_time": "2022-02-09T15:39:07.161Z"
   },
   {
    "duration": 400,
    "start_time": "2022-02-09T15:39:07.171Z"
   },
   {
    "duration": 75,
    "start_time": "2022-02-09T15:39:07.573Z"
   },
   {
    "duration": 41,
    "start_time": "2022-02-09T15:39:07.650Z"
   },
   {
    "duration": 40,
    "start_time": "2022-02-09T15:39:07.694Z"
   },
   {
    "duration": 19,
    "start_time": "2022-02-09T15:39:07.738Z"
   },
   {
    "duration": 45,
    "start_time": "2022-02-09T15:39:07.760Z"
   },
   {
    "duration": 51,
    "start_time": "2022-02-09T15:39:07.807Z"
   },
   {
    "duration": 14,
    "start_time": "2022-02-09T15:39:07.861Z"
   },
   {
    "duration": 65,
    "start_time": "2022-02-09T15:39:07.878Z"
   },
   {
    "duration": 25,
    "start_time": "2022-02-09T15:39:07.945Z"
   },
   {
    "duration": 16,
    "start_time": "2022-02-09T15:39:07.972Z"
   },
   {
    "duration": 7,
    "start_time": "2022-02-09T15:39:07.990Z"
   },
   {
    "duration": 30,
    "start_time": "2022-02-09T15:39:08.033Z"
   },
   {
    "duration": 4,
    "start_time": "2022-02-09T15:39:08.065Z"
   },
   {
    "duration": 33,
    "start_time": "2022-02-09T15:39:08.072Z"
   },
   {
    "duration": 42,
    "start_time": "2022-02-09T15:39:08.107Z"
   },
   {
    "duration": 15,
    "start_time": "2022-02-09T15:39:08.151Z"
   },
   {
    "duration": 20,
    "start_time": "2022-02-09T15:39:08.169Z"
   },
   {
    "duration": 45,
    "start_time": "2022-02-09T15:39:08.191Z"
   },
   {
    "duration": 137,
    "start_time": "2022-02-09T15:39:08.243Z"
   },
   {
    "duration": 12,
    "start_time": "2022-02-09T15:39:08.383Z"
   },
   {
    "duration": 45,
    "start_time": "2022-02-09T15:39:08.398Z"
   },
   {
    "duration": 16,
    "start_time": "2022-02-09T15:39:08.446Z"
   },
   {
    "duration": 22,
    "start_time": "2022-02-09T15:39:08.465Z"
   },
   {
    "duration": 4,
    "start_time": "2022-02-09T15:39:08.490Z"
   },
   {
    "duration": 57,
    "start_time": "2022-02-09T15:39:08.496Z"
   },
   {
    "duration": 4,
    "start_time": "2022-02-09T15:39:08.555Z"
   },
   {
    "duration": 1498,
    "start_time": "2022-02-09T15:45:25.883Z"
   },
   {
    "duration": 393,
    "start_time": "2022-02-09T15:45:27.384Z"
   },
   {
    "duration": 5,
    "start_time": "2022-02-09T15:45:27.781Z"
   },
   {
    "duration": 385,
    "start_time": "2022-02-09T15:45:27.789Z"
   },
   {
    "duration": 76,
    "start_time": "2022-02-09T15:45:28.176Z"
   },
   {
    "duration": 39,
    "start_time": "2022-02-09T15:45:28.255Z"
   },
   {
    "duration": 16,
    "start_time": "2022-02-09T15:45:28.297Z"
   },
   {
    "duration": 21,
    "start_time": "2022-02-09T15:45:28.335Z"
   },
   {
    "duration": 104,
    "start_time": "2022-02-09T15:45:28.361Z"
   },
   {
    "duration": 31,
    "start_time": "2022-02-09T15:45:28.468Z"
   },
   {
    "duration": 14,
    "start_time": "2022-02-09T15:45:28.533Z"
   },
   {
    "duration": 36,
    "start_time": "2022-02-09T15:45:28.549Z"
   },
   {
    "duration": 54,
    "start_time": "2022-02-09T15:45:28.588Z"
   },
   {
    "duration": 21,
    "start_time": "2022-02-09T15:45:28.645Z"
   },
   {
    "duration": 7,
    "start_time": "2022-02-09T15:45:28.669Z"
   },
   {
    "duration": 60,
    "start_time": "2022-02-09T15:45:28.678Z"
   },
   {
    "duration": 4,
    "start_time": "2022-02-09T15:45:28.740Z"
   },
   {
    "duration": 30,
    "start_time": "2022-02-09T15:45:28.746Z"
   },
   {
    "duration": 57,
    "start_time": "2022-02-09T15:45:28.778Z"
   },
   {
    "duration": 15,
    "start_time": "2022-02-09T15:45:28.837Z"
   },
   {
    "duration": 20,
    "start_time": "2022-02-09T15:45:28.854Z"
   },
   {
    "duration": 13,
    "start_time": "2022-02-09T15:45:28.876Z"
   },
   {
    "duration": 161,
    "start_time": "2022-02-09T15:45:28.893Z"
   },
   {
    "duration": 10,
    "start_time": "2022-02-09T15:45:29.057Z"
   },
   {
    "duration": 22,
    "start_time": "2022-02-09T15:45:29.070Z"
   },
   {
    "duration": 48,
    "start_time": "2022-02-09T15:45:29.094Z"
   },
   {
    "duration": 23,
    "start_time": "2022-02-09T15:45:29.145Z"
   },
   {
    "duration": 219,
    "start_time": "2022-02-09T15:45:29.171Z"
   },
   {
    "duration": -1763,
    "start_time": "2022-02-09T15:45:31.156Z"
   },
   {
    "duration": -1766,
    "start_time": "2022-02-09T15:45:31.161Z"
   },
   {
    "duration": 6,
    "start_time": "2022-02-09T15:45:39.879Z"
   },
   {
    "duration": 6,
    "start_time": "2022-02-09T15:46:05.990Z"
   },
   {
    "duration": 6,
    "start_time": "2022-02-09T15:46:11.721Z"
   },
   {
    "duration": 20,
    "start_time": "2022-02-09T15:46:39.871Z"
   },
   {
    "duration": 450,
    "start_time": "2022-02-09T16:08:00.221Z"
   },
   {
    "duration": 362,
    "start_time": "2022-02-09T16:09:30.367Z"
   },
   {
    "duration": 1501,
    "start_time": "2022-02-09T16:09:40.099Z"
   },
   {
    "duration": 326,
    "start_time": "2022-02-09T16:09:41.602Z"
   },
   {
    "duration": 6,
    "start_time": "2022-02-09T16:09:41.931Z"
   },
   {
    "duration": 402,
    "start_time": "2022-02-09T16:09:41.939Z"
   },
   {
    "duration": 59,
    "start_time": "2022-02-09T16:09:42.344Z"
   },
   {
    "duration": 54,
    "start_time": "2022-02-09T16:09:42.405Z"
   },
   {
    "duration": 15,
    "start_time": "2022-02-09T16:09:42.462Z"
   },
   {
    "duration": 17,
    "start_time": "2022-02-09T16:09:42.481Z"
   },
   {
    "duration": 71,
    "start_time": "2022-02-09T16:09:42.501Z"
   },
   {
    "duration": 31,
    "start_time": "2022-02-09T16:09:42.574Z"
   },
   {
    "duration": 35,
    "start_time": "2022-02-09T16:09:42.607Z"
   },
   {
    "duration": 37,
    "start_time": "2022-02-09T16:09:42.644Z"
   },
   {
    "duration": 24,
    "start_time": "2022-02-09T16:09:42.683Z"
   },
   {
    "duration": 15,
    "start_time": "2022-02-09T16:09:42.732Z"
   },
   {
    "duration": 6,
    "start_time": "2022-02-09T16:09:42.749Z"
   },
   {
    "duration": 30,
    "start_time": "2022-02-09T16:09:42.757Z"
   },
   {
    "duration": 4,
    "start_time": "2022-02-09T16:09:42.789Z"
   },
   {
    "duration": 63,
    "start_time": "2022-02-09T16:09:42.795Z"
   },
   {
    "duration": 21,
    "start_time": "2022-02-09T16:09:42.860Z"
   },
   {
    "duration": 15,
    "start_time": "2022-02-09T16:09:42.883Z"
   },
   {
    "duration": 46,
    "start_time": "2022-02-09T16:09:42.901Z"
   },
   {
    "duration": 10,
    "start_time": "2022-02-09T16:09:42.950Z"
   },
   {
    "duration": 146,
    "start_time": "2022-02-09T16:09:42.964Z"
   },
   {
    "duration": 21,
    "start_time": "2022-02-09T16:09:43.113Z"
   },
   {
    "duration": 21,
    "start_time": "2022-02-09T16:09:43.137Z"
   },
   {
    "duration": 16,
    "start_time": "2022-02-09T16:09:43.161Z"
   },
   {
    "duration": 52,
    "start_time": "2022-02-09T16:09:43.180Z"
   },
   {
    "duration": 6,
    "start_time": "2022-02-09T16:09:43.235Z"
   },
   {
    "duration": 22,
    "start_time": "2022-02-09T16:09:43.245Z"
   },
   {
    "duration": 6,
    "start_time": "2022-02-09T16:09:43.270Z"
   },
   {
    "duration": 362,
    "start_time": "2022-02-09T16:09:43.279Z"
   },
   {
    "duration": 246,
    "start_time": "2022-02-09T16:11:15.294Z"
   },
   {
    "duration": 246,
    "start_time": "2022-02-09T16:11:49.521Z"
   },
   {
    "duration": 313,
    "start_time": "2022-02-09T16:12:17.688Z"
   },
   {
    "duration": 1319,
    "start_time": "2022-02-09T16:14:43.071Z"
   },
   {
    "duration": 336,
    "start_time": "2022-02-09T16:14:44.392Z"
   },
   {
    "duration": 5,
    "start_time": "2022-02-09T16:14:44.731Z"
   },
   {
    "duration": 382,
    "start_time": "2022-02-09T16:14:44.740Z"
   },
   {
    "duration": 69,
    "start_time": "2022-02-09T16:14:45.125Z"
   },
   {
    "duration": 69,
    "start_time": "2022-02-09T16:14:45.197Z"
   },
   {
    "duration": 17,
    "start_time": "2022-02-09T16:14:45.269Z"
   },
   {
    "duration": 42,
    "start_time": "2022-02-09T16:14:45.290Z"
   },
   {
    "duration": 43,
    "start_time": "2022-02-09T16:14:45.335Z"
   },
   {
    "duration": 52,
    "start_time": "2022-02-09T16:14:45.380Z"
   },
   {
    "duration": 15,
    "start_time": "2022-02-09T16:14:45.435Z"
   },
   {
    "duration": 35,
    "start_time": "2022-02-09T16:14:45.453Z"
   },
   {
    "duration": 54,
    "start_time": "2022-02-09T16:14:45.490Z"
   },
   {
    "duration": 14,
    "start_time": "2022-02-09T16:14:45.547Z"
   },
   {
    "duration": 8,
    "start_time": "2022-02-09T16:14:45.564Z"
   },
   {
    "duration": 57,
    "start_time": "2022-02-09T16:14:45.575Z"
   },
   {
    "duration": 4,
    "start_time": "2022-02-09T16:14:45.635Z"
   },
   {
    "duration": 32,
    "start_time": "2022-02-09T16:14:45.642Z"
   },
   {
    "duration": 19,
    "start_time": "2022-02-09T16:14:45.676Z"
   },
   {
    "duration": 46,
    "start_time": "2022-02-09T16:14:45.698Z"
   },
   {
    "duration": 17,
    "start_time": "2022-02-09T16:14:45.747Z"
   },
   {
    "duration": 11,
    "start_time": "2022-02-09T16:14:45.767Z"
   },
   {
    "duration": 204,
    "start_time": "2022-02-09T16:14:45.784Z"
   },
   {
    "duration": 13,
    "start_time": "2022-02-09T16:14:45.991Z"
   },
   {
    "duration": 38,
    "start_time": "2022-02-09T16:14:46.007Z"
   },
   {
    "duration": 16,
    "start_time": "2022-02-09T16:14:46.048Z"
   },
   {
    "duration": 23,
    "start_time": "2022-02-09T16:14:46.067Z"
   },
   {
    "duration": 5,
    "start_time": "2022-02-09T16:14:46.093Z"
   },
   {
    "duration": 52,
    "start_time": "2022-02-09T16:14:46.100Z"
   },
   {
    "duration": 6,
    "start_time": "2022-02-09T16:14:46.154Z"
   },
   {
    "duration": 430,
    "start_time": "2022-02-09T16:14:46.163Z"
   },
   {
    "duration": 232,
    "start_time": "2022-02-09T16:14:54.841Z"
   },
   {
    "duration": 250,
    "start_time": "2022-02-09T16:15:45.973Z"
   },
   {
    "duration": 279,
    "start_time": "2022-02-09T16:15:56.870Z"
   },
   {
    "duration": 1472,
    "start_time": "2022-02-09T16:17:46.114Z"
   },
   {
    "duration": 331,
    "start_time": "2022-02-09T16:17:47.589Z"
   },
   {
    "duration": 5,
    "start_time": "2022-02-09T16:17:47.923Z"
   },
   {
    "duration": 371,
    "start_time": "2022-02-09T16:17:47.930Z"
   },
   {
    "duration": 76,
    "start_time": "2022-02-09T16:17:48.304Z"
   },
   {
    "duration": 49,
    "start_time": "2022-02-09T16:17:48.383Z"
   },
   {
    "duration": 17,
    "start_time": "2022-02-09T16:17:48.435Z"
   },
   {
    "duration": 18,
    "start_time": "2022-02-09T16:17:48.455Z"
   },
   {
    "duration": 68,
    "start_time": "2022-02-09T16:17:48.476Z"
   },
   {
    "duration": 32,
    "start_time": "2022-02-09T16:17:48.546Z"
   },
   {
    "duration": 14,
    "start_time": "2022-02-09T16:17:48.580Z"
   },
   {
    "duration": 63,
    "start_time": "2022-02-09T16:17:48.596Z"
   },
   {
    "duration": 24,
    "start_time": "2022-02-09T16:17:48.662Z"
   },
   {
    "duration": 14,
    "start_time": "2022-02-09T16:17:48.689Z"
   },
   {
    "duration": 28,
    "start_time": "2022-02-09T16:17:48.706Z"
   },
   {
    "duration": 29,
    "start_time": "2022-02-09T16:17:48.737Z"
   },
   {
    "duration": 3,
    "start_time": "2022-02-09T16:17:48.769Z"
   },
   {
    "duration": 63,
    "start_time": "2022-02-09T16:17:48.775Z"
   },
   {
    "duration": 20,
    "start_time": "2022-02-09T16:17:48.841Z"
   },
   {
    "duration": 15,
    "start_time": "2022-02-09T16:17:48.863Z"
   },
   {
    "duration": 19,
    "start_time": "2022-02-09T16:17:48.880Z"
   },
   {
    "duration": 8,
    "start_time": "2022-02-09T16:17:48.933Z"
   },
   {
    "duration": 132,
    "start_time": "2022-02-09T16:17:48.945Z"
   },
   {
    "duration": 9,
    "start_time": "2022-02-09T16:17:49.080Z"
   },
   {
    "duration": 20,
    "start_time": "2022-02-09T16:17:49.092Z"
   },
   {
    "duration": 31,
    "start_time": "2022-02-09T16:17:49.114Z"
   },
   {
    "duration": 22,
    "start_time": "2022-02-09T16:17:49.148Z"
   },
   {
    "duration": 6,
    "start_time": "2022-02-09T16:17:49.173Z"
   },
   {
    "duration": 57,
    "start_time": "2022-02-09T16:17:49.182Z"
   },
   {
    "duration": 6,
    "start_time": "2022-02-09T16:17:49.242Z"
   },
   {
    "duration": 402,
    "start_time": "2022-02-09T16:17:49.250Z"
   },
   {
    "duration": 245,
    "start_time": "2022-02-09T16:17:56.906Z"
   },
   {
    "duration": 276,
    "start_time": "2022-02-09T16:22:11.547Z"
   },
   {
    "duration": 235,
    "start_time": "2022-02-09T16:22:16.268Z"
   },
   {
    "duration": 3698,
    "start_time": "2022-02-09T16:24:16.763Z"
   },
   {
    "duration": 3037,
    "start_time": "2022-02-09T16:24:37.899Z"
   },
   {
    "duration": 1468,
    "start_time": "2022-02-09T16:24:40.939Z"
   },
   {
    "duration": 348,
    "start_time": "2022-02-09T16:24:42.410Z"
   },
   {
    "duration": 6,
    "start_time": "2022-02-09T16:24:42.760Z"
   },
   {
    "duration": 394,
    "start_time": "2022-02-09T16:24:42.768Z"
   },
   {
    "duration": 82,
    "start_time": "2022-02-09T16:24:43.165Z"
   },
   {
    "duration": 40,
    "start_time": "2022-02-09T16:24:43.250Z"
   },
   {
    "duration": 40,
    "start_time": "2022-02-09T16:24:43.294Z"
   },
   {
    "duration": 19,
    "start_time": "2022-02-09T16:24:43.337Z"
   },
   {
    "duration": 44,
    "start_time": "2022-02-09T16:24:43.359Z"
   },
   {
    "duration": 53,
    "start_time": "2022-02-09T16:24:43.405Z"
   },
   {
    "duration": 15,
    "start_time": "2022-02-09T16:24:43.460Z"
   },
   {
    "duration": 73,
    "start_time": "2022-02-09T16:24:43.478Z"
   },
   {
    "duration": 25,
    "start_time": "2022-02-09T16:24:43.554Z"
   },
   {
    "duration": 16,
    "start_time": "2022-02-09T16:24:43.581Z"
   },
   {
    "duration": 7,
    "start_time": "2022-02-09T16:24:43.599Z"
   },
   {
    "duration": 51,
    "start_time": "2022-02-09T16:24:43.609Z"
   },
   {
    "duration": 4,
    "start_time": "2022-02-09T16:24:43.662Z"
   },
   {
    "duration": 28,
    "start_time": "2022-02-09T16:24:43.669Z"
   },
   {
    "duration": 50,
    "start_time": "2022-02-09T16:24:43.700Z"
   },
   {
    "duration": 15,
    "start_time": "2022-02-09T16:24:43.752Z"
   },
   {
    "duration": 17,
    "start_time": "2022-02-09T16:24:43.769Z"
   },
   {
    "duration": 44,
    "start_time": "2022-02-09T16:24:43.791Z"
   },
   {
    "duration": 132,
    "start_time": "2022-02-09T16:24:43.838Z"
   },
   {
    "duration": 11,
    "start_time": "2022-02-09T16:24:43.972Z"
   },
   {
    "duration": 22,
    "start_time": "2022-02-09T16:24:43.985Z"
   },
   {
    "duration": 31,
    "start_time": "2022-02-09T16:24:44.009Z"
   },
   {
    "duration": 20,
    "start_time": "2022-02-09T16:24:44.042Z"
   },
   {
    "duration": 8,
    "start_time": "2022-02-09T16:24:44.064Z"
   },
   {
    "duration": 19,
    "start_time": "2022-02-09T16:24:44.074Z"
   },
   {
    "duration": 37,
    "start_time": "2022-02-09T16:24:44.096Z"
   },
   {
    "duration": 373,
    "start_time": "2022-02-09T16:24:44.135Z"
   },
   {
    "duration": 232,
    "start_time": "2022-02-09T16:24:56.757Z"
   },
   {
    "duration": 256,
    "start_time": "2022-02-09T16:26:57.469Z"
   },
   {
    "duration": 299,
    "start_time": "2022-02-09T16:48:26.601Z"
   },
   {
    "duration": 7508,
    "start_time": "2022-02-09T17:04:53.526Z"
   },
   {
    "duration": 191,
    "start_time": "2022-02-09T17:05:38.572Z"
   },
   {
    "duration": 145,
    "start_time": "2022-02-09T17:06:11.434Z"
   },
   {
    "duration": 741,
    "start_time": "2022-02-09T17:07:30.217Z"
   },
   {
    "duration": 744,
    "start_time": "2022-02-09T17:07:57.200Z"
   },
   {
    "duration": 687,
    "start_time": "2022-02-09T17:21:46.808Z"
   },
   {
    "duration": 38,
    "start_time": "2022-02-09T17:22:37.510Z"
   },
   {
    "duration": 38,
    "start_time": "2022-02-09T17:22:42.010Z"
   },
   {
    "duration": 665,
    "start_time": "2022-02-09T17:22:46.047Z"
   },
   {
    "duration": 6697,
    "start_time": "2022-02-09T17:24:17.650Z"
   },
   {
    "duration": 763,
    "start_time": "2022-02-09T17:26:00.481Z"
   },
   {
    "duration": 892,
    "start_time": "2022-02-09T17:27:20.069Z"
   },
   {
    "duration": 15,
    "start_time": "2022-02-09T17:29:40.612Z"
   },
   {
    "duration": 82,
    "start_time": "2022-02-09T17:30:23.050Z"
   },
   {
    "duration": 14,
    "start_time": "2022-02-09T17:30:36.764Z"
   },
   {
    "duration": 15,
    "start_time": "2022-02-09T17:31:22.114Z"
   },
   {
    "duration": 14,
    "start_time": "2022-02-09T17:32:46.501Z"
   },
   {
    "duration": 15,
    "start_time": "2022-02-09T17:35:15.049Z"
   },
   {
    "duration": 16,
    "start_time": "2022-02-09T17:36:23.671Z"
   },
   {
    "duration": 753,
    "start_time": "2022-02-09T17:38:53.086Z"
   },
   {
    "duration": 651,
    "start_time": "2022-02-09T17:38:59.899Z"
   },
   {
    "duration": 1110,
    "start_time": "2022-02-09T17:47:20.581Z"
   },
   {
    "duration": 4202,
    "start_time": "2022-02-09T17:47:34.200Z"
   },
   {
    "duration": 300,
    "start_time": "2022-02-12T19:20:12.431Z"
   },
   {
    "duration": 76,
    "start_time": "2022-02-12T19:21:20.315Z"
   },
   {
    "duration": 145,
    "start_time": "2022-02-12T19:29:18.448Z"
   },
   {
    "duration": 94,
    "start_time": "2022-02-12T19:30:17.556Z"
   },
   {
    "duration": 83,
    "start_time": "2022-02-12T19:31:47.417Z"
   },
   {
    "duration": 79,
    "start_time": "2022-02-12T19:33:14.337Z"
   },
   {
    "duration": 82,
    "start_time": "2022-02-12T19:33:30.410Z"
   },
   {
    "duration": 58978,
    "start_time": "2022-02-12T19:34:03.061Z"
   },
   {
    "duration": 1424,
    "start_time": "2022-02-12T19:35:02.042Z"
   },
   {
    "duration": 470,
    "start_time": "2022-02-12T19:35:03.469Z"
   },
   {
    "duration": 4,
    "start_time": "2022-02-12T19:35:03.942Z"
   },
   {
    "duration": 319,
    "start_time": "2022-02-12T19:35:03.948Z"
   },
   {
    "duration": 62,
    "start_time": "2022-02-12T19:35:04.269Z"
   },
   {
    "duration": 30,
    "start_time": "2022-02-12T19:35:04.333Z"
   },
   {
    "duration": 13,
    "start_time": "2022-02-12T19:35:04.366Z"
   },
   {
    "duration": 36,
    "start_time": "2022-02-12T19:35:04.382Z"
   },
   {
    "duration": 36,
    "start_time": "2022-02-12T19:35:04.420Z"
   },
   {
    "duration": 26,
    "start_time": "2022-02-12T19:35:04.458Z"
   },
   {
    "duration": 12,
    "start_time": "2022-02-12T19:35:04.508Z"
   },
   {
    "duration": 30,
    "start_time": "2022-02-12T19:35:04.522Z"
   },
   {
    "duration": 18,
    "start_time": "2022-02-12T19:35:04.554Z"
   },
   {
    "duration": 41,
    "start_time": "2022-02-12T19:35:04.574Z"
   },
   {
    "duration": 4,
    "start_time": "2022-02-12T19:35:04.617Z"
   },
   {
    "duration": 26,
    "start_time": "2022-02-12T19:35:04.623Z"
   },
   {
    "duration": 20,
    "start_time": "2022-02-12T19:35:04.651Z"
   },
   {
    "duration": 42,
    "start_time": "2022-02-12T19:35:04.673Z"
   },
   {
    "duration": 11,
    "start_time": "2022-02-12T19:35:04.717Z"
   },
   {
    "duration": 14,
    "start_time": "2022-02-12T19:35:04.730Z"
   },
   {
    "duration": 9,
    "start_time": "2022-02-12T19:35:04.747Z"
   },
   {
    "duration": 118,
    "start_time": "2022-02-12T19:35:04.761Z"
   },
   {
    "duration": 9,
    "start_time": "2022-02-12T19:35:04.882Z"
   },
   {
    "duration": 45,
    "start_time": "2022-02-12T19:35:04.908Z"
   },
   {
    "duration": 19,
    "start_time": "2022-02-12T19:35:04.955Z"
   },
   {
    "duration": 19,
    "start_time": "2022-02-12T19:35:04.976Z"
   },
   {
    "duration": 6,
    "start_time": "2022-02-12T19:35:04.997Z"
   },
   {
    "duration": 25,
    "start_time": "2022-02-12T19:35:05.007Z"
   },
   {
    "duration": 5,
    "start_time": "2022-02-12T19:35:05.034Z"
   },
   {
    "duration": 293,
    "start_time": "2022-02-12T19:35:05.040Z"
   },
   {
    "duration": 408,
    "start_time": "2022-02-12T19:35:05.335Z"
   },
   {
    "duration": 466,
    "start_time": "2022-02-12T19:35:05.744Z"
   },
   {
    "duration": 12,
    "start_time": "2022-02-12T19:35:06.211Z"
   },
   {
    "duration": 284,
    "start_time": "2022-02-12T19:35:06.225Z"
   },
   {
    "duration": 569,
    "start_time": "2022-02-12T19:35:06.510Z"
   },
   {
    "duration": 460,
    "start_time": "2022-02-12T19:35:07.081Z"
   },
   {
    "duration": 12,
    "start_time": "2022-02-12T19:35:07.543Z"
   },
   {
    "duration": 278,
    "start_time": "2022-02-12T19:35:07.557Z"
   },
   {
    "duration": 402,
    "start_time": "2022-02-12T19:35:07.836Z"
   },
   {
    "duration": 432,
    "start_time": "2022-02-12T19:35:08.239Z"
   },
   {
    "duration": 11,
    "start_time": "2022-02-12T19:35:08.673Z"
   },
   {
    "duration": 678,
    "start_time": "2022-02-12T19:35:08.686Z"
   },
   {
    "duration": 443,
    "start_time": "2022-02-12T19:35:09.366Z"
   },
   {
    "duration": 13,
    "start_time": "2022-02-12T19:35:09.811Z"
   },
   {
    "duration": 13,
    "start_time": "2022-02-12T19:35:09.826Z"
   },
   {
    "duration": 18,
    "start_time": "2022-02-12T19:35:09.841Z"
   },
   {
    "duration": 7,
    "start_time": "2022-02-12T19:35:09.862Z"
   },
   {
    "duration": 86,
    "start_time": "2022-02-12T19:37:45.349Z"
   },
   {
    "duration": 372,
    "start_time": "2022-02-13T15:56:42.441Z"
   },
   {
    "duration": 4204,
    "start_time": "2022-02-13T15:56:58.714Z"
   },
   {
    "duration": 1256,
    "start_time": "2022-02-13T15:57:02.920Z"
   },
   {
    "duration": 591,
    "start_time": "2022-02-13T15:57:04.179Z"
   },
   {
    "duration": 5,
    "start_time": "2022-02-13T15:57:04.772Z"
   },
   {
    "duration": 339,
    "start_time": "2022-02-13T15:57:04.779Z"
   },
   {
    "duration": 51,
    "start_time": "2022-02-13T15:57:05.121Z"
   },
   {
    "duration": 41,
    "start_time": "2022-02-13T15:57:05.174Z"
   },
   {
    "duration": 16,
    "start_time": "2022-02-13T15:57:05.218Z"
   },
   {
    "duration": 17,
    "start_time": "2022-02-13T15:57:05.237Z"
   },
   {
    "duration": 36,
    "start_time": "2022-02-13T15:57:05.256Z"
   },
   {
    "duration": 28,
    "start_time": "2022-02-13T15:57:05.294Z"
   },
   {
    "duration": 12,
    "start_time": "2022-02-13T15:57:05.325Z"
   },
   {
    "duration": 31,
    "start_time": "2022-02-13T15:57:05.340Z"
   },
   {
    "duration": 20,
    "start_time": "2022-02-13T15:57:05.373Z"
   },
   {
    "duration": 13,
    "start_time": "2022-02-13T15:57:05.408Z"
   },
   {
    "duration": 4,
    "start_time": "2022-02-13T15:57:05.423Z"
   },
   {
    "duration": 24,
    "start_time": "2022-02-13T15:57:05.430Z"
   },
   {
    "duration": 31,
    "start_time": "2022-02-13T15:57:05.508Z"
   },
   {
    "duration": 367,
    "start_time": "2022-02-13T15:57:05.542Z"
   },
   {
    "duration": -316,
    "start_time": "2022-02-13T15:57:06.228Z"
   },
   {
    "duration": -324,
    "start_time": "2022-02-13T15:57:06.237Z"
   },
   {
    "duration": -326,
    "start_time": "2022-02-13T15:57:06.241Z"
   },
   {
    "duration": -329,
    "start_time": "2022-02-13T15:57:06.245Z"
   },
   {
    "duration": -337,
    "start_time": "2022-02-13T15:57:06.254Z"
   },
   {
    "duration": -340,
    "start_time": "2022-02-13T15:57:06.258Z"
   },
   {
    "duration": -342,
    "start_time": "2022-02-13T15:57:06.261Z"
   },
   {
    "duration": -462,
    "start_time": "2022-02-13T15:57:06.382Z"
   },
   {
    "duration": -473,
    "start_time": "2022-02-13T15:57:06.395Z"
   },
   {
    "duration": -493,
    "start_time": "2022-02-13T15:57:06.416Z"
   },
   {
    "duration": -494,
    "start_time": "2022-02-13T15:57:06.419Z"
   },
   {
    "duration": -500,
    "start_time": "2022-02-13T15:57:06.427Z"
   },
   {
    "duration": -512,
    "start_time": "2022-02-13T15:57:06.440Z"
   },
   {
    "duration": -523,
    "start_time": "2022-02-13T15:57:06.453Z"
   },
   {
    "duration": -529,
    "start_time": "2022-02-13T15:57:06.460Z"
   },
   {
    "duration": -538,
    "start_time": "2022-02-13T15:57:06.470Z"
   },
   {
    "duration": -545,
    "start_time": "2022-02-13T15:57:06.478Z"
   },
   {
    "duration": -552,
    "start_time": "2022-02-13T15:57:06.486Z"
   },
   {
    "duration": -555,
    "start_time": "2022-02-13T15:57:06.490Z"
   },
   {
    "duration": -567,
    "start_time": "2022-02-13T15:57:06.503Z"
   },
   {
    "duration": -570,
    "start_time": "2022-02-13T15:57:06.506Z"
   },
   {
    "duration": -576,
    "start_time": "2022-02-13T15:57:06.513Z"
   },
   {
    "duration": -585,
    "start_time": "2022-02-13T15:57:06.523Z"
   },
   {
    "duration": -593,
    "start_time": "2022-02-13T15:57:06.532Z"
   },
   {
    "duration": -653,
    "start_time": "2022-02-13T15:57:06.592Z"
   },
   {
    "duration": -659,
    "start_time": "2022-02-13T15:57:06.599Z"
   },
   {
    "duration": -670,
    "start_time": "2022-02-13T15:57:06.611Z"
   },
   {
    "duration": -677,
    "start_time": "2022-02-13T15:57:06.619Z"
   },
   {
    "duration": -690,
    "start_time": "2022-02-13T15:57:06.633Z"
   },
   {
    "duration": 28,
    "start_time": "2022-02-13T15:59:32.432Z"
   },
   {
    "duration": 14,
    "start_time": "2022-02-13T16:00:08.338Z"
   },
   {
    "duration": 14,
    "start_time": "2022-02-13T16:00:13.901Z"
   },
   {
    "duration": 6,
    "start_time": "2022-02-13T16:00:45.780Z"
   },
   {
    "duration": 520,
    "start_time": "2022-02-13T16:00:47.042Z"
   },
   {
    "duration": 6,
    "start_time": "2022-02-13T16:01:47.403Z"
   },
   {
    "duration": 522,
    "start_time": "2022-02-13T16:01:48.200Z"
   },
   {
    "duration": 6,
    "start_time": "2022-02-13T16:02:12.218Z"
   },
   {
    "duration": 524,
    "start_time": "2022-02-13T16:02:13.305Z"
   },
   {
    "duration": 7,
    "start_time": "2022-02-13T16:03:45.082Z"
   },
   {
    "duration": 484,
    "start_time": "2022-02-13T16:03:46.337Z"
   },
   {
    "duration": 6,
    "start_time": "2022-02-13T16:04:12.452Z"
   },
   {
    "duration": 81,
    "start_time": "2022-02-13T16:04:13.170Z"
   },
   {
    "duration": 8,
    "start_time": "2022-02-13T16:04:16.288Z"
   },
   {
    "duration": 17,
    "start_time": "2022-02-13T16:04:17.282Z"
   },
   {
    "duration": 6,
    "start_time": "2022-02-13T16:05:00.065Z"
   },
   {
    "duration": 82,
    "start_time": "2022-02-13T16:05:00.619Z"
   },
   {
    "duration": 8,
    "start_time": "2022-02-13T16:05:01.237Z"
   },
   {
    "duration": 16,
    "start_time": "2022-02-13T16:05:02.129Z"
   },
   {
    "duration": 6,
    "start_time": "2022-02-13T16:05:28.942Z"
   },
   {
    "duration": 76,
    "start_time": "2022-02-13T16:05:29.503Z"
   },
   {
    "duration": 9,
    "start_time": "2022-02-13T16:05:30.069Z"
   },
   {
    "duration": 15,
    "start_time": "2022-02-13T16:05:30.641Z"
   },
   {
    "duration": 15,
    "start_time": "2022-02-13T16:05:41.640Z"
   },
   {
    "duration": 12,
    "start_time": "2022-02-13T16:07:11.461Z"
   },
   {
    "duration": 18,
    "start_time": "2022-02-13T16:07:12.086Z"
   },
   {
    "duration": 5,
    "start_time": "2022-02-13T16:07:20.425Z"
   },
   {
    "duration": 17,
    "start_time": "2022-02-13T16:07:21.104Z"
   },
   {
    "duration": 5,
    "start_time": "2022-02-13T16:07:28.442Z"
   },
   {
    "duration": 266,
    "start_time": "2022-02-13T16:07:53.284Z"
   },
   {
    "duration": 432,
    "start_time": "2022-02-13T16:07:59.277Z"
   },
   {
    "duration": 438,
    "start_time": "2022-02-13T16:08:11.908Z"
   },
   {
    "duration": 18,
    "start_time": "2022-02-13T16:09:21.368Z"
   },
   {
    "duration": 16,
    "start_time": "2022-02-13T16:11:08.246Z"
   },
   {
    "duration": 15,
    "start_time": "2022-02-13T16:11:37.492Z"
   },
   {
    "duration": 395,
    "start_time": "2022-02-13T16:13:12.305Z"
   },
   {
    "duration": 817,
    "start_time": "2022-02-13T16:13:17.818Z"
   },
   {
    "duration": 654,
    "start_time": "2022-02-13T16:13:49.656Z"
   },
   {
    "duration": 14,
    "start_time": "2022-02-13T16:17:17.281Z"
   },
   {
    "duration": 272,
    "start_time": "2022-02-13T16:19:01.315Z"
   },
   {
    "duration": 420,
    "start_time": "2022-02-13T16:19:02.628Z"
   },
   {
    "duration": 468,
    "start_time": "2022-02-13T16:19:07.359Z"
   },
   {
    "duration": 16,
    "start_time": "2022-02-13T16:21:21.085Z"
   },
   {
    "duration": 786,
    "start_time": "2022-02-13T16:22:52.816Z"
   },
   {
    "duration": 462,
    "start_time": "2022-02-13T16:22:56.184Z"
   },
   {
    "duration": 15,
    "start_time": "2022-02-13T16:25:25.323Z"
   },
   {
    "duration": 7,
    "start_time": "2022-02-13T16:27:35.435Z"
   },
   {
    "duration": 12,
    "start_time": "2022-02-13T16:27:41.494Z"
   },
   {
    "duration": 6,
    "start_time": "2022-02-13T16:27:42.693Z"
   },
   {
    "duration": 84,
    "start_time": "2022-02-13T16:33:19.336Z"
   },
   {
    "duration": 2940,
    "start_time": "2022-02-13T16:34:14.405Z"
   },
   {
    "duration": 1116,
    "start_time": "2022-02-13T16:34:17.348Z"
   },
   {
    "duration": 456,
    "start_time": "2022-02-13T16:34:18.467Z"
   },
   {
    "duration": 101,
    "start_time": "2022-02-13T16:34:18.925Z"
   },
   {
    "duration": 65,
    "start_time": "2022-02-13T16:34:18.965Z"
   },
   {
    "duration": 42,
    "start_time": "2022-02-13T16:34:18.989Z"
   },
   {
    "duration": 9,
    "start_time": "2022-02-13T16:34:19.023Z"
   },
   {
    "duration": -10,
    "start_time": "2022-02-13T16:34:19.043Z"
   },
   {
    "duration": -27,
    "start_time": "2022-02-13T16:34:19.061Z"
   },
   {
    "duration": -84,
    "start_time": "2022-02-13T16:34:19.119Z"
   },
   {
    "duration": -93,
    "start_time": "2022-02-13T16:34:19.129Z"
   },
   {
    "duration": -110,
    "start_time": "2022-02-13T16:34:19.147Z"
   },
   {
    "duration": -131,
    "start_time": "2022-02-13T16:34:19.169Z"
   },
   {
    "duration": -134,
    "start_time": "2022-02-13T16:34:19.173Z"
   },
   {
    "duration": -161,
    "start_time": "2022-02-13T16:34:19.201Z"
   },
   {
    "duration": -165,
    "start_time": "2022-02-13T16:34:19.206Z"
   },
   {
    "duration": -174,
    "start_time": "2022-02-13T16:34:19.216Z"
   },
   {
    "duration": -192,
    "start_time": "2022-02-13T16:34:19.235Z"
   },
   {
    "duration": -212,
    "start_time": "2022-02-13T16:34:19.256Z"
   },
   {
    "duration": -217,
    "start_time": "2022-02-13T16:34:19.262Z"
   },
   {
    "duration": -240,
    "start_time": "2022-02-13T16:34:19.286Z"
   },
   {
    "duration": -261,
    "start_time": "2022-02-13T16:34:19.308Z"
   },
   {
    "duration": -266,
    "start_time": "2022-02-13T16:34:19.314Z"
   },
   {
    "duration": -274,
    "start_time": "2022-02-13T16:34:19.323Z"
   },
   {
    "duration": -295,
    "start_time": "2022-02-13T16:34:19.345Z"
   },
   {
    "duration": -298,
    "start_time": "2022-02-13T16:34:19.349Z"
   },
   {
    "duration": -319,
    "start_time": "2022-02-13T16:34:19.371Z"
   },
   {
    "duration": -341,
    "start_time": "2022-02-13T16:34:19.394Z"
   },
   {
    "duration": -344,
    "start_time": "2022-02-13T16:34:19.398Z"
   },
   {
    "duration": -353,
    "start_time": "2022-02-13T16:34:19.408Z"
   },
   {
    "duration": -441,
    "start_time": "2022-02-13T16:34:19.500Z"
   },
   {
    "duration": -444,
    "start_time": "2022-02-13T16:34:19.504Z"
   },
   {
    "duration": -452,
    "start_time": "2022-02-13T16:34:19.512Z"
   },
   {
    "duration": -468,
    "start_time": "2022-02-13T16:34:19.529Z"
   },
   {
    "duration": -488,
    "start_time": "2022-02-13T16:34:19.550Z"
   },
   {
    "duration": -491,
    "start_time": "2022-02-13T16:34:19.554Z"
   },
   {
    "duration": -494,
    "start_time": "2022-02-13T16:34:19.558Z"
   },
   {
    "duration": -500,
    "start_time": "2022-02-13T16:34:19.565Z"
   },
   {
    "duration": -518,
    "start_time": "2022-02-13T16:34:19.584Z"
   },
   {
    "duration": -522,
    "start_time": "2022-02-13T16:34:19.589Z"
   },
   {
    "duration": -531,
    "start_time": "2022-02-13T16:34:19.599Z"
   },
   {
    "duration": -549,
    "start_time": "2022-02-13T16:34:19.618Z"
   },
   {
    "duration": -529,
    "start_time": "2022-02-13T16:34:19.636Z"
   },
   {
    "duration": -548,
    "start_time": "2022-02-13T16:34:19.656Z"
   },
   {
    "duration": -551,
    "start_time": "2022-02-13T16:34:19.661Z"
   },
   {
    "duration": -557,
    "start_time": "2022-02-13T16:34:19.669Z"
   },
   {
    "duration": -575,
    "start_time": "2022-02-13T16:34:19.688Z"
   },
   {
    "duration": -592,
    "start_time": "2022-02-13T16:34:19.706Z"
   },
   {
    "duration": 6,
    "start_time": "2022-02-13T16:34:51.723Z"
   },
   {
    "duration": 323,
    "start_time": "2022-02-13T16:35:05.420Z"
   },
   {
    "duration": 97,
    "start_time": "2022-02-13T16:39:27.166Z"
   },
   {
    "duration": 348,
    "start_time": "2022-02-13T16:42:31.841Z"
   },
   {
    "duration": 3003,
    "start_time": "2022-02-13T16:42:52.652Z"
   },
   {
    "duration": 1183,
    "start_time": "2022-02-13T16:42:55.657Z"
   },
   {
    "duration": 446,
    "start_time": "2022-02-13T16:42:56.843Z"
   },
   {
    "duration": 7,
    "start_time": "2022-02-13T16:42:57.292Z"
   },
   {
    "duration": 307,
    "start_time": "2022-02-13T16:42:57.301Z"
   },
   {
    "duration": 50,
    "start_time": "2022-02-13T16:42:57.610Z"
   },
   {
    "duration": 52,
    "start_time": "2022-02-13T16:42:57.662Z"
   },
   {
    "duration": 15,
    "start_time": "2022-02-13T16:42:57.718Z"
   },
   {
    "duration": 16,
    "start_time": "2022-02-13T16:42:57.735Z"
   },
   {
    "duration": 56,
    "start_time": "2022-02-13T16:42:57.753Z"
   },
   {
    "duration": 24,
    "start_time": "2022-02-13T16:42:57.811Z"
   },
   {
    "duration": 11,
    "start_time": "2022-02-13T16:42:57.837Z"
   },
   {
    "duration": 29,
    "start_time": "2022-02-13T16:42:57.850Z"
   },
   {
    "duration": 44,
    "start_time": "2022-02-13T16:42:57.881Z"
   },
   {
    "duration": 13,
    "start_time": "2022-02-13T16:42:57.927Z"
   },
   {
    "duration": 5,
    "start_time": "2022-02-13T16:42:57.942Z"
   },
   {
    "duration": 346,
    "start_time": "2022-02-13T16:42:57.949Z"
   },
   {
    "duration": 110,
    "start_time": "2022-02-13T16:42:58.188Z"
   },
   {
    "duration": 104,
    "start_time": "2022-02-13T16:42:58.195Z"
   },
   {
    "duration": 94,
    "start_time": "2022-02-13T16:42:58.206Z"
   },
   {
    "duration": 78,
    "start_time": "2022-02-13T16:42:58.223Z"
   },
   {
    "duration": 73,
    "start_time": "2022-02-13T16:42:58.229Z"
   },
   {
    "duration": 67,
    "start_time": "2022-02-13T16:42:58.236Z"
   },
   {
    "duration": 56,
    "start_time": "2022-02-13T16:42:58.248Z"
   },
   {
    "duration": 50,
    "start_time": "2022-02-13T16:42:58.256Z"
   },
   {
    "duration": 35,
    "start_time": "2022-02-13T16:42:58.272Z"
   },
   {
    "duration": 16,
    "start_time": "2022-02-13T16:42:58.292Z"
   },
   {
    "duration": 4,
    "start_time": "2022-02-13T16:42:58.305Z"
   },
   {
    "duration": -23,
    "start_time": "2022-02-13T16:42:58.333Z"
   },
   {
    "duration": -27,
    "start_time": "2022-02-13T16:42:58.338Z"
   },
   {
    "duration": -33,
    "start_time": "2022-02-13T16:42:58.345Z"
   },
   {
    "duration": -46,
    "start_time": "2022-02-13T16:42:58.359Z"
   },
   {
    "duration": -54,
    "start_time": "2022-02-13T16:42:58.368Z"
   },
   {
    "duration": -62,
    "start_time": "2022-02-13T16:42:58.377Z"
   },
   {
    "duration": -71,
    "start_time": "2022-02-13T16:42:58.387Z"
   },
   {
    "duration": -78,
    "start_time": "2022-02-13T16:42:58.395Z"
   },
   {
    "duration": -86,
    "start_time": "2022-02-13T16:42:58.404Z"
   },
   {
    "duration": -93,
    "start_time": "2022-02-13T16:42:58.412Z"
   },
   {
    "duration": -101,
    "start_time": "2022-02-13T16:42:58.421Z"
   },
   {
    "duration": -108,
    "start_time": "2022-02-13T16:42:58.429Z"
   },
   {
    "duration": -116,
    "start_time": "2022-02-13T16:42:58.438Z"
   },
   {
    "duration": -120,
    "start_time": "2022-02-13T16:42:58.444Z"
   },
   {
    "duration": -129,
    "start_time": "2022-02-13T16:42:58.454Z"
   },
   {
    "duration": -133,
    "start_time": "2022-02-13T16:42:58.459Z"
   },
   {
    "duration": -146,
    "start_time": "2022-02-13T16:42:58.473Z"
   },
   {
    "duration": -154,
    "start_time": "2022-02-13T16:42:58.482Z"
   },
   {
    "duration": -163,
    "start_time": "2022-02-13T16:42:58.492Z"
   },
   {
    "duration": -170,
    "start_time": "2022-02-13T16:42:58.500Z"
   },
   {
    "duration": 300,
    "start_time": "2022-02-13T16:43:37.758Z"
   },
   {
    "duration": 30,
    "start_time": "2022-02-13T16:44:06.061Z"
   },
   {
    "duration": 3655,
    "start_time": "2022-02-13T16:44:29.205Z"
   },
   {
    "duration": 1198,
    "start_time": "2022-02-13T16:44:32.864Z"
   },
   {
    "duration": 478,
    "start_time": "2022-02-13T16:44:34.064Z"
   },
   {
    "duration": 4,
    "start_time": "2022-02-13T16:44:34.544Z"
   },
   {
    "duration": 326,
    "start_time": "2022-02-13T16:44:34.550Z"
   },
   {
    "duration": 68,
    "start_time": "2022-02-13T16:44:34.878Z"
   },
   {
    "duration": 33,
    "start_time": "2022-02-13T16:44:34.948Z"
   },
   {
    "duration": 33,
    "start_time": "2022-02-13T16:44:34.985Z"
   },
   {
    "duration": 23,
    "start_time": "2022-02-13T16:44:35.021Z"
   },
   {
    "duration": 74,
    "start_time": "2022-02-13T16:44:35.047Z"
   },
   {
    "duration": 32,
    "start_time": "2022-02-13T16:44:35.124Z"
   },
   {
    "duration": 20,
    "start_time": "2022-02-13T16:44:35.158Z"
   },
   {
    "duration": 48,
    "start_time": "2022-02-13T16:44:35.182Z"
   },
   {
    "duration": 24,
    "start_time": "2022-02-13T16:44:35.232Z"
   },
   {
    "duration": 16,
    "start_time": "2022-02-13T16:44:35.261Z"
   },
   {
    "duration": 9,
    "start_time": "2022-02-13T16:44:35.279Z"
   },
   {
    "duration": 31,
    "start_time": "2022-02-13T16:44:35.309Z"
   },
   {
    "duration": 28,
    "start_time": "2022-02-13T16:44:35.343Z"
   },
   {
    "duration": 36,
    "start_time": "2022-02-13T16:44:35.373Z"
   },
   {
    "duration": 20,
    "start_time": "2022-02-13T16:44:35.411Z"
   },
   {
    "duration": 23,
    "start_time": "2022-02-13T16:44:35.435Z"
   },
   {
    "duration": 11,
    "start_time": "2022-02-13T16:44:35.460Z"
   },
   {
    "duration": 106,
    "start_time": "2022-02-13T16:44:35.475Z"
   },
   {
    "duration": 11,
    "start_time": "2022-02-13T16:44:35.584Z"
   },
   {
    "duration": 33,
    "start_time": "2022-02-13T16:44:35.597Z"
   },
   {
    "duration": 14,
    "start_time": "2022-02-13T16:44:35.632Z"
   },
   {
    "duration": 20,
    "start_time": "2022-02-13T16:44:35.648Z"
   },
   {
    "duration": 5,
    "start_time": "2022-02-13T16:44:35.670Z"
   },
   {
    "duration": 51,
    "start_time": "2022-02-13T16:44:35.677Z"
   },
   {
    "duration": 18,
    "start_time": "2022-02-13T16:44:35.730Z"
   },
   {
    "duration": 368,
    "start_time": "2022-02-13T16:44:35.750Z"
   },
   {
    "duration": 424,
    "start_time": "2022-02-13T16:44:36.121Z"
   },
   {
    "duration": 692,
    "start_time": "2022-02-13T16:44:36.548Z"
   },
   {
    "duration": 15,
    "start_time": "2022-02-13T16:44:37.243Z"
   },
   {
    "duration": 308,
    "start_time": "2022-02-13T16:44:37.260Z"
   },
   {
    "duration": 561,
    "start_time": "2022-02-13T16:44:37.570Z"
   },
   {
    "duration": 452,
    "start_time": "2022-02-13T16:44:38.133Z"
   },
   {
    "duration": 24,
    "start_time": "2022-02-13T16:44:38.588Z"
   },
   {
    "duration": 413,
    "start_time": "2022-02-13T16:44:38.615Z"
   },
   {
    "duration": 655,
    "start_time": "2022-02-13T16:44:39.031Z"
   },
   {
    "duration": 470,
    "start_time": "2022-02-13T16:44:39.689Z"
   },
   {
    "duration": 14,
    "start_time": "2022-02-13T16:44:40.161Z"
   },
   {
    "duration": 686,
    "start_time": "2022-02-13T16:44:40.177Z"
   },
   {
    "duration": 451,
    "start_time": "2022-02-13T16:44:40.865Z"
   },
   {
    "duration": 13,
    "start_time": "2022-02-13T16:44:41.319Z"
   },
   {
    "duration": 8,
    "start_time": "2022-02-13T16:44:41.334Z"
   },
   {
    "duration": 11,
    "start_time": "2022-02-13T16:44:41.344Z"
   },
   {
    "duration": 9,
    "start_time": "2022-02-13T16:44:41.357Z"
   },
   {
    "duration": 4,
    "start_time": "2022-02-13T17:04:26.271Z"
   },
   {
    "duration": 200,
    "start_time": "2022-02-13T17:04:27.622Z"
   },
   {
    "duration": 1141,
    "start_time": "2022-02-13T17:04:38.775Z"
   },
   {
    "duration": 408,
    "start_time": "2022-02-13T17:04:40.190Z"
   },
   {
    "duration": 4,
    "start_time": "2022-02-13T17:04:42.585Z"
   },
   {
    "duration": 396,
    "start_time": "2022-02-13T17:04:43.896Z"
   },
   {
    "duration": 4,
    "start_time": "2022-02-13T17:05:30.725Z"
   },
   {
    "duration": 265,
    "start_time": "2022-02-13T17:05:31.381Z"
   },
   {
    "duration": 55,
    "start_time": "2022-02-13T17:07:36.950Z"
   },
   {
    "duration": 63,
    "start_time": "2022-02-13T17:15:50.563Z"
   }
  ],
  "kernelspec": {
   "display_name": "Python 3 (ipykernel)",
   "language": "python",
   "name": "python3"
  },
  "language_info": {
   "codemirror_mode": {
    "name": "ipython",
    "version": 3
   },
   "file_extension": ".py",
   "mimetype": "text/x-python",
   "name": "python",
   "nbconvert_exporter": "python",
   "pygments_lexer": "ipython3",
   "version": "3.9.5"
  },
  "toc": {
   "base_numbering": 1,
   "nav_menu": {},
   "number_sections": true,
   "sideBar": true,
   "skip_h1_title": true,
   "title_cell": "Table of Contents",
   "title_sidebar": "Contents",
   "toc_cell": false,
   "toc_position": {},
   "toc_section_display": true,
   "toc_window_display": false
  }
 },
 "nbformat": 4,
 "nbformat_minor": 2
}
